{
 "cells": [
  {
   "cell_type": "markdown",
   "id": "58f16adb",
   "metadata": {},
   "source": [
    "# Case Study on the Lending Club Loan Data"
   ]
  },
  {
   "cell_type": "markdown",
   "id": "d3f659c1",
   "metadata": {},
   "source": [
    "### Importing necessary Libraries"
   ]
  },
  {
   "cell_type": "code",
   "execution_count": null,
   "id": "b3271119",
   "metadata": {},
   "outputs": [],
   "source": [
    "import pandas as pd\n",
    "import numpy as  np\n",
    "import seaborn as sns\n",
    "import warnings\n",
    "warnings.filterwarnings(\"ignore\")\n",
    "import matplotlib.pyplot as plt\n",
    "%matplotlib inline\n"
   ]
  },
  {
   "cell_type": "markdown",
   "id": "0fca2077",
   "metadata": {},
   "source": [
    "### Description of the Dataset"
   ]
  },
  {
   "cell_type": "markdown",
   "id": "e781a348",
   "metadata": {},
   "source": [
    "### Loan data from Lending Club"
   ]
  },
  {
   "cell_type": "markdown",
   "id": "73e7fb68",
   "metadata": {},
   "source": [
    "This data collection comprises thousands of loans made using the Lending Club platform, which allows people to lend money to other people.It is vital to remember the dataset only covers loans that were actually made and should not be confused with loan applications data. By exploring the dataset, it is noticed that not every loan is the same in the sense that there are individuals who appear likely to pay their loan when compared to others by considering loan repayment history. On the other hand someone who appears to be a safe bet to repay a loan will find it easier to obtain a low-interest loan than someone who appears to be riskier. People who take a lot of chances, may not have received a loan offer at all, or they may have rejected it due to a high interest rate."
   ]
  },
  {
   "cell_type": "markdown",
   "id": "f49395e8",
   "metadata": {},
   "source": [
    "When a person requests for a loan, the company may make one of two decisions:\n",
    "\n",
    "<b>Loan accepted:</b> If the company approves the loan, there are 3 possible scenarios described below:\n",
    "\n",
    "Fully paid: Applicant has fully paid the loan.\n",
    "\n",
    "Current: Applicant is in the process of paying the instalments, i.e. the tenure of the loan is not yet completed. \n",
    "\n",
    "Charged-off: Applicant has not paid the instalments in due time for a long period of time, i.e. he/she has defaulted on the loan\n",
    "\n",
    "<b><b>Loan rejected:</b></b> The company had rejected the loan because the candidate does not meet their requirements. Since the loan was rejected, there is no transactional history of the applicants with the company and in the dataset as well.\n",
    "\n",
    "Objective:\n",
    "Objective is to identify the risky loan applicants at the time of loan application so that such loans can be reduced thereby cutting down the amount of credit loss. Identification of such applicants using EDA is the aim of this case study."
   ]
  },
  {
   "cell_type": "markdown",
   "id": "9d459015",
   "metadata": {},
   "source": [
    "### Loading the Data "
   ]
  },
  {
   "cell_type": "code",
   "execution_count": 44,
   "id": "2483ced7",
   "metadata": {},
   "outputs": [],
   "source": [
    "df=pd.read_csv(\"loans_full_schema.csv\")"
   ]
  },
  {
   "cell_type": "code",
   "execution_count": 45,
   "id": "e88c4302",
   "metadata": {},
   "outputs": [
    {
     "data": {
      "text/html": [
       "<div>\n",
       "<style scoped>\n",
       "    .dataframe tbody tr th:only-of-type {\n",
       "        vertical-align: middle;\n",
       "    }\n",
       "\n",
       "    .dataframe tbody tr th {\n",
       "        vertical-align: top;\n",
       "    }\n",
       "\n",
       "    .dataframe thead th {\n",
       "        text-align: right;\n",
       "    }\n",
       "</style>\n",
       "<table border=\"1\" class=\"dataframe\">\n",
       "  <thead>\n",
       "    <tr style=\"text-align: right;\">\n",
       "      <th></th>\n",
       "      <th>emp_title</th>\n",
       "      <th>emp_length</th>\n",
       "      <th>state</th>\n",
       "      <th>homeownership</th>\n",
       "      <th>annual_income</th>\n",
       "      <th>verified_income</th>\n",
       "      <th>debt_to_income</th>\n",
       "      <th>annual_income_joint</th>\n",
       "      <th>verification_income_joint</th>\n",
       "      <th>debt_to_income_joint</th>\n",
       "      <th>...</th>\n",
       "      <th>sub_grade</th>\n",
       "      <th>issue_month</th>\n",
       "      <th>loan_status</th>\n",
       "      <th>initial_listing_status</th>\n",
       "      <th>disbursement_method</th>\n",
       "      <th>balance</th>\n",
       "      <th>paid_total</th>\n",
       "      <th>paid_principal</th>\n",
       "      <th>paid_interest</th>\n",
       "      <th>paid_late_fees</th>\n",
       "    </tr>\n",
       "  </thead>\n",
       "  <tbody>\n",
       "    <tr>\n",
       "      <th>0</th>\n",
       "      <td>global config engineer</td>\n",
       "      <td>3.0</td>\n",
       "      <td>NJ</td>\n",
       "      <td>MORTGAGE</td>\n",
       "      <td>90000.0</td>\n",
       "      <td>Verified</td>\n",
       "      <td>18.01</td>\n",
       "      <td>NaN</td>\n",
       "      <td>NaN</td>\n",
       "      <td>NaN</td>\n",
       "      <td>...</td>\n",
       "      <td>C3</td>\n",
       "      <td>Mar-2018</td>\n",
       "      <td>Current</td>\n",
       "      <td>whole</td>\n",
       "      <td>Cash</td>\n",
       "      <td>27015.86</td>\n",
       "      <td>1999.33</td>\n",
       "      <td>984.14</td>\n",
       "      <td>1015.19</td>\n",
       "      <td>0.0</td>\n",
       "    </tr>\n",
       "    <tr>\n",
       "      <th>1</th>\n",
       "      <td>warehouse office clerk</td>\n",
       "      <td>10.0</td>\n",
       "      <td>HI</td>\n",
       "      <td>RENT</td>\n",
       "      <td>40000.0</td>\n",
       "      <td>Not Verified</td>\n",
       "      <td>5.04</td>\n",
       "      <td>NaN</td>\n",
       "      <td>NaN</td>\n",
       "      <td>NaN</td>\n",
       "      <td>...</td>\n",
       "      <td>C1</td>\n",
       "      <td>Feb-2018</td>\n",
       "      <td>Current</td>\n",
       "      <td>whole</td>\n",
       "      <td>Cash</td>\n",
       "      <td>4651.37</td>\n",
       "      <td>499.12</td>\n",
       "      <td>348.63</td>\n",
       "      <td>150.49</td>\n",
       "      <td>0.0</td>\n",
       "    </tr>\n",
       "    <tr>\n",
       "      <th>2</th>\n",
       "      <td>assembly</td>\n",
       "      <td>3.0</td>\n",
       "      <td>WI</td>\n",
       "      <td>RENT</td>\n",
       "      <td>40000.0</td>\n",
       "      <td>Source Verified</td>\n",
       "      <td>21.15</td>\n",
       "      <td>NaN</td>\n",
       "      <td>NaN</td>\n",
       "      <td>NaN</td>\n",
       "      <td>...</td>\n",
       "      <td>D1</td>\n",
       "      <td>Feb-2018</td>\n",
       "      <td>Current</td>\n",
       "      <td>fractional</td>\n",
       "      <td>Cash</td>\n",
       "      <td>1824.63</td>\n",
       "      <td>281.80</td>\n",
       "      <td>175.37</td>\n",
       "      <td>106.43</td>\n",
       "      <td>0.0</td>\n",
       "    </tr>\n",
       "    <tr>\n",
       "      <th>3</th>\n",
       "      <td>customer service</td>\n",
       "      <td>1.0</td>\n",
       "      <td>PA</td>\n",
       "      <td>RENT</td>\n",
       "      <td>30000.0</td>\n",
       "      <td>Not Verified</td>\n",
       "      <td>10.16</td>\n",
       "      <td>NaN</td>\n",
       "      <td>NaN</td>\n",
       "      <td>NaN</td>\n",
       "      <td>...</td>\n",
       "      <td>A3</td>\n",
       "      <td>Jan-2018</td>\n",
       "      <td>Current</td>\n",
       "      <td>whole</td>\n",
       "      <td>Cash</td>\n",
       "      <td>18853.26</td>\n",
       "      <td>3312.89</td>\n",
       "      <td>2746.74</td>\n",
       "      <td>566.15</td>\n",
       "      <td>0.0</td>\n",
       "    </tr>\n",
       "    <tr>\n",
       "      <th>4</th>\n",
       "      <td>security supervisor</td>\n",
       "      <td>10.0</td>\n",
       "      <td>CA</td>\n",
       "      <td>RENT</td>\n",
       "      <td>35000.0</td>\n",
       "      <td>Verified</td>\n",
       "      <td>57.96</td>\n",
       "      <td>57000.0</td>\n",
       "      <td>Verified</td>\n",
       "      <td>37.66</td>\n",
       "      <td>...</td>\n",
       "      <td>C3</td>\n",
       "      <td>Mar-2018</td>\n",
       "      <td>Current</td>\n",
       "      <td>whole</td>\n",
       "      <td>Cash</td>\n",
       "      <td>21430.15</td>\n",
       "      <td>2324.65</td>\n",
       "      <td>1569.85</td>\n",
       "      <td>754.80</td>\n",
       "      <td>0.0</td>\n",
       "    </tr>\n",
       "  </tbody>\n",
       "</table>\n",
       "<p>5 rows × 55 columns</p>\n",
       "</div>"
      ],
      "text/plain": [
       "                 emp_title  emp_length state homeownership  annual_income  \\\n",
       "0  global config engineer          3.0    NJ      MORTGAGE        90000.0   \n",
       "1   warehouse office clerk        10.0    HI          RENT        40000.0   \n",
       "2                 assembly         3.0    WI          RENT        40000.0   \n",
       "3         customer service         1.0    PA          RENT        30000.0   \n",
       "4     security supervisor         10.0    CA          RENT        35000.0   \n",
       "\n",
       "   verified_income  debt_to_income  annual_income_joint  \\\n",
       "0         Verified           18.01                  NaN   \n",
       "1     Not Verified            5.04                  NaN   \n",
       "2  Source Verified           21.15                  NaN   \n",
       "3     Not Verified           10.16                  NaN   \n",
       "4         Verified           57.96              57000.0   \n",
       "\n",
       "  verification_income_joint  debt_to_income_joint  ...  sub_grade  \\\n",
       "0                       NaN                   NaN  ...         C3   \n",
       "1                       NaN                   NaN  ...         C1   \n",
       "2                       NaN                   NaN  ...         D1   \n",
       "3                       NaN                   NaN  ...         A3   \n",
       "4                  Verified                 37.66  ...         C3   \n",
       "\n",
       "   issue_month  loan_status  initial_listing_status  disbursement_method  \\\n",
       "0     Mar-2018      Current                   whole                 Cash   \n",
       "1     Feb-2018      Current                   whole                 Cash   \n",
       "2     Feb-2018      Current              fractional                 Cash   \n",
       "3     Jan-2018      Current                   whole                 Cash   \n",
       "4     Mar-2018      Current                   whole                 Cash   \n",
       "\n",
       "    balance  paid_total  paid_principal  paid_interest  paid_late_fees  \n",
       "0  27015.86     1999.33          984.14        1015.19             0.0  \n",
       "1   4651.37      499.12          348.63         150.49             0.0  \n",
       "2   1824.63      281.80          175.37         106.43             0.0  \n",
       "3  18853.26     3312.89         2746.74         566.15             0.0  \n",
       "4  21430.15     2324.65         1569.85         754.80             0.0  \n",
       "\n",
       "[5 rows x 55 columns]"
      ]
     },
     "execution_count": 45,
     "metadata": {},
     "output_type": "execute_result"
    }
   ],
   "source": [
    "df.head()"
   ]
  },
  {
   "cell_type": "markdown",
   "id": "073bdb1d",
   "metadata": {},
   "source": [
    "#### Checking the Dataset format"
   ]
  },
  {
   "cell_type": "code",
   "execution_count": 46,
   "id": "6bca07b2",
   "metadata": {},
   "outputs": [
    {
     "data": {
      "text/plain": [
       "(10000, 55)"
      ]
     },
     "execution_count": 46,
     "metadata": {},
     "output_type": "execute_result"
    }
   ],
   "source": [
    "df.shape"
   ]
  },
  {
   "cell_type": "code",
   "execution_count": 47,
   "id": "1e0bbefa",
   "metadata": {},
   "outputs": [
    {
     "name": "stdout",
     "output_type": "stream",
     "text": [
      "<class 'pandas.core.frame.DataFrame'>\n",
      "RangeIndex: 10000 entries, 0 to 9999\n",
      "Data columns (total 55 columns):\n",
      " #   Column                            Non-Null Count  Dtype  \n",
      "---  ------                            --------------  -----  \n",
      " 0   emp_title                         9167 non-null   object \n",
      " 1   emp_length                        9183 non-null   float64\n",
      " 2   state                             10000 non-null  object \n",
      " 3   homeownership                     10000 non-null  object \n",
      " 4   annual_income                     10000 non-null  float64\n",
      " 5   verified_income                   10000 non-null  object \n",
      " 6   debt_to_income                    9976 non-null   float64\n",
      " 7   annual_income_joint               1495 non-null   float64\n",
      " 8   verification_income_joint         1455 non-null   object \n",
      " 9   debt_to_income_joint              1495 non-null   float64\n",
      " 10  delinq_2y                         10000 non-null  int64  \n",
      " 11  months_since_last_delinq          4342 non-null   float64\n",
      " 12  earliest_credit_line              10000 non-null  int64  \n",
      " 13  inquiries_last_12m                10000 non-null  int64  \n",
      " 14  total_credit_lines                10000 non-null  int64  \n",
      " 15  open_credit_lines                 10000 non-null  int64  \n",
      " 16  total_credit_limit                10000 non-null  int64  \n",
      " 17  total_credit_utilized             10000 non-null  int64  \n",
      " 18  num_collections_last_12m          10000 non-null  int64  \n",
      " 19  num_historical_failed_to_pay      10000 non-null  int64  \n",
      " 20  months_since_90d_late             2285 non-null   float64\n",
      " 21  current_accounts_delinq           10000 non-null  int64  \n",
      " 22  total_collection_amount_ever      10000 non-null  int64  \n",
      " 23  current_installment_accounts      10000 non-null  int64  \n",
      " 24  accounts_opened_24m               10000 non-null  int64  \n",
      " 25  months_since_last_credit_inquiry  8729 non-null   float64\n",
      " 26  num_satisfactory_accounts         10000 non-null  int64  \n",
      " 27  num_accounts_120d_past_due        9682 non-null   float64\n",
      " 28  num_accounts_30d_past_due         10000 non-null  int64  \n",
      " 29  num_active_debit_accounts         10000 non-null  int64  \n",
      " 30  total_debit_limit                 10000 non-null  int64  \n",
      " 31  num_total_cc_accounts             10000 non-null  int64  \n",
      " 32  num_open_cc_accounts              10000 non-null  int64  \n",
      " 33  num_cc_carrying_balance           10000 non-null  int64  \n",
      " 34  num_mort_accounts                 10000 non-null  int64  \n",
      " 35  account_never_delinq_percent      10000 non-null  float64\n",
      " 36  tax_liens                         10000 non-null  int64  \n",
      " 37  public_record_bankrupt            10000 non-null  int64  \n",
      " 38  loan_purpose                      10000 non-null  object \n",
      " 39  application_type                  10000 non-null  object \n",
      " 40  loan_amount                       10000 non-null  int64  \n",
      " 41  term                              10000 non-null  int64  \n",
      " 42  interest_rate                     10000 non-null  float64\n",
      " 43  installment                       10000 non-null  float64\n",
      " 44  grade                             10000 non-null  object \n",
      " 45  sub_grade                         10000 non-null  object \n",
      " 46  issue_month                       10000 non-null  object \n",
      " 47  loan_status                       10000 non-null  object \n",
      " 48  initial_listing_status            10000 non-null  object \n",
      " 49  disbursement_method               10000 non-null  object \n",
      " 50  balance                           10000 non-null  float64\n",
      " 51  paid_total                        10000 non-null  float64\n",
      " 52  paid_principal                    10000 non-null  float64\n",
      " 53  paid_interest                     10000 non-null  float64\n",
      " 54  paid_late_fees                    10000 non-null  float64\n",
      "dtypes: float64(17), int64(25), object(13)\n",
      "memory usage: 4.2+ MB\n"
     ]
    }
   ],
   "source": [
    "df.info()"
   ]
  },
  {
   "cell_type": "code",
   "execution_count": 48,
   "id": "d1d885f6",
   "metadata": {},
   "outputs": [
    {
     "data": {
      "text/html": [
       "<div>\n",
       "<style scoped>\n",
       "    .dataframe tbody tr th:only-of-type {\n",
       "        vertical-align: middle;\n",
       "    }\n",
       "\n",
       "    .dataframe tbody tr th {\n",
       "        vertical-align: top;\n",
       "    }\n",
       "\n",
       "    .dataframe thead th {\n",
       "        text-align: right;\n",
       "    }\n",
       "</style>\n",
       "<table border=\"1\" class=\"dataframe\">\n",
       "  <thead>\n",
       "    <tr style=\"text-align: right;\">\n",
       "      <th></th>\n",
       "      <th>emp_length</th>\n",
       "      <th>annual_income</th>\n",
       "      <th>debt_to_income</th>\n",
       "      <th>annual_income_joint</th>\n",
       "      <th>debt_to_income_joint</th>\n",
       "      <th>delinq_2y</th>\n",
       "      <th>months_since_last_delinq</th>\n",
       "      <th>earliest_credit_line</th>\n",
       "      <th>inquiries_last_12m</th>\n",
       "      <th>total_credit_lines</th>\n",
       "      <th>...</th>\n",
       "      <th>public_record_bankrupt</th>\n",
       "      <th>loan_amount</th>\n",
       "      <th>term</th>\n",
       "      <th>interest_rate</th>\n",
       "      <th>installment</th>\n",
       "      <th>balance</th>\n",
       "      <th>paid_total</th>\n",
       "      <th>paid_principal</th>\n",
       "      <th>paid_interest</th>\n",
       "      <th>paid_late_fees</th>\n",
       "    </tr>\n",
       "  </thead>\n",
       "  <tbody>\n",
       "    <tr>\n",
       "      <th>count</th>\n",
       "      <td>9183.000000</td>\n",
       "      <td>1.000000e+04</td>\n",
       "      <td>9976.000000</td>\n",
       "      <td>1.495000e+03</td>\n",
       "      <td>1495.000000</td>\n",
       "      <td>10000.00000</td>\n",
       "      <td>4342.000000</td>\n",
       "      <td>10000.00000</td>\n",
       "      <td>10000.00000</td>\n",
       "      <td>10000.000000</td>\n",
       "      <td>...</td>\n",
       "      <td>10000.000000</td>\n",
       "      <td>10000.000000</td>\n",
       "      <td>10000.000000</td>\n",
       "      <td>10000.000000</td>\n",
       "      <td>10000.000000</td>\n",
       "      <td>10000.000000</td>\n",
       "      <td>10000.000000</td>\n",
       "      <td>10000.000000</td>\n",
       "      <td>10000.000000</td>\n",
       "      <td>10000.000000</td>\n",
       "    </tr>\n",
       "    <tr>\n",
       "      <th>mean</th>\n",
       "      <td>5.930306</td>\n",
       "      <td>7.922215e+04</td>\n",
       "      <td>19.308192</td>\n",
       "      <td>1.279146e+05</td>\n",
       "      <td>19.979304</td>\n",
       "      <td>0.21600</td>\n",
       "      <td>36.760709</td>\n",
       "      <td>2001.29000</td>\n",
       "      <td>1.95820</td>\n",
       "      <td>22.679600</td>\n",
       "      <td>...</td>\n",
       "      <td>0.123800</td>\n",
       "      <td>16361.922500</td>\n",
       "      <td>43.272000</td>\n",
       "      <td>12.427524</td>\n",
       "      <td>476.205323</td>\n",
       "      <td>14458.916610</td>\n",
       "      <td>2494.234773</td>\n",
       "      <td>1894.448466</td>\n",
       "      <td>599.666781</td>\n",
       "      <td>0.119516</td>\n",
       "    </tr>\n",
       "    <tr>\n",
       "      <th>std</th>\n",
       "      <td>3.703734</td>\n",
       "      <td>6.473429e+04</td>\n",
       "      <td>15.004851</td>\n",
       "      <td>7.016838e+04</td>\n",
       "      <td>8.054781</td>\n",
       "      <td>0.68366</td>\n",
       "      <td>21.634939</td>\n",
       "      <td>7.79551</td>\n",
       "      <td>2.38013</td>\n",
       "      <td>11.885439</td>\n",
       "      <td>...</td>\n",
       "      <td>0.337172</td>\n",
       "      <td>10301.956759</td>\n",
       "      <td>11.029877</td>\n",
       "      <td>5.001105</td>\n",
       "      <td>294.851627</td>\n",
       "      <td>9964.561865</td>\n",
       "      <td>3958.230365</td>\n",
       "      <td>3884.407175</td>\n",
       "      <td>517.328062</td>\n",
       "      <td>1.813468</td>\n",
       "    </tr>\n",
       "    <tr>\n",
       "      <th>min</th>\n",
       "      <td>0.000000</td>\n",
       "      <td>0.000000e+00</td>\n",
       "      <td>0.000000</td>\n",
       "      <td>1.920000e+04</td>\n",
       "      <td>0.320000</td>\n",
       "      <td>0.00000</td>\n",
       "      <td>1.000000</td>\n",
       "      <td>1963.00000</td>\n",
       "      <td>0.00000</td>\n",
       "      <td>2.000000</td>\n",
       "      <td>...</td>\n",
       "      <td>0.000000</td>\n",
       "      <td>1000.000000</td>\n",
       "      <td>36.000000</td>\n",
       "      <td>5.310000</td>\n",
       "      <td>30.750000</td>\n",
       "      <td>0.000000</td>\n",
       "      <td>0.000000</td>\n",
       "      <td>0.000000</td>\n",
       "      <td>0.000000</td>\n",
       "      <td>0.000000</td>\n",
       "    </tr>\n",
       "    <tr>\n",
       "      <th>25%</th>\n",
       "      <td>2.000000</td>\n",
       "      <td>4.500000e+04</td>\n",
       "      <td>11.057500</td>\n",
       "      <td>8.683350e+04</td>\n",
       "      <td>14.160000</td>\n",
       "      <td>0.00000</td>\n",
       "      <td>19.000000</td>\n",
       "      <td>1997.00000</td>\n",
       "      <td>0.00000</td>\n",
       "      <td>14.000000</td>\n",
       "      <td>...</td>\n",
       "      <td>0.000000</td>\n",
       "      <td>8000.000000</td>\n",
       "      <td>36.000000</td>\n",
       "      <td>9.430000</td>\n",
       "      <td>256.040000</td>\n",
       "      <td>6679.065000</td>\n",
       "      <td>928.700000</td>\n",
       "      <td>587.100000</td>\n",
       "      <td>221.757500</td>\n",
       "      <td>0.000000</td>\n",
       "    </tr>\n",
       "    <tr>\n",
       "      <th>50%</th>\n",
       "      <td>6.000000</td>\n",
       "      <td>6.500000e+04</td>\n",
       "      <td>17.570000</td>\n",
       "      <td>1.130000e+05</td>\n",
       "      <td>19.720000</td>\n",
       "      <td>0.00000</td>\n",
       "      <td>34.000000</td>\n",
       "      <td>2003.00000</td>\n",
       "      <td>1.00000</td>\n",
       "      <td>21.000000</td>\n",
       "      <td>...</td>\n",
       "      <td>0.000000</td>\n",
       "      <td>14500.000000</td>\n",
       "      <td>36.000000</td>\n",
       "      <td>11.980000</td>\n",
       "      <td>398.420000</td>\n",
       "      <td>12379.495000</td>\n",
       "      <td>1563.300000</td>\n",
       "      <td>984.990000</td>\n",
       "      <td>446.140000</td>\n",
       "      <td>0.000000</td>\n",
       "    </tr>\n",
       "    <tr>\n",
       "      <th>75%</th>\n",
       "      <td>10.000000</td>\n",
       "      <td>9.500000e+04</td>\n",
       "      <td>25.002500</td>\n",
       "      <td>1.515455e+05</td>\n",
       "      <td>25.500000</td>\n",
       "      <td>0.00000</td>\n",
       "      <td>53.000000</td>\n",
       "      <td>2006.00000</td>\n",
       "      <td>3.00000</td>\n",
       "      <td>29.000000</td>\n",
       "      <td>...</td>\n",
       "      <td>0.000000</td>\n",
       "      <td>24000.000000</td>\n",
       "      <td>60.000000</td>\n",
       "      <td>15.050000</td>\n",
       "      <td>644.690000</td>\n",
       "      <td>20690.182500</td>\n",
       "      <td>2616.005000</td>\n",
       "      <td>1694.555000</td>\n",
       "      <td>825.420000</td>\n",
       "      <td>0.000000</td>\n",
       "    </tr>\n",
       "    <tr>\n",
       "      <th>max</th>\n",
       "      <td>10.000000</td>\n",
       "      <td>2.300000e+06</td>\n",
       "      <td>469.090000</td>\n",
       "      <td>1.100000e+06</td>\n",
       "      <td>39.980000</td>\n",
       "      <td>13.00000</td>\n",
       "      <td>118.000000</td>\n",
       "      <td>2015.00000</td>\n",
       "      <td>29.00000</td>\n",
       "      <td>87.000000</td>\n",
       "      <td>...</td>\n",
       "      <td>3.000000</td>\n",
       "      <td>40000.000000</td>\n",
       "      <td>60.000000</td>\n",
       "      <td>30.940000</td>\n",
       "      <td>1566.590000</td>\n",
       "      <td>40000.000000</td>\n",
       "      <td>41630.443684</td>\n",
       "      <td>40000.000000</td>\n",
       "      <td>4216.440000</td>\n",
       "      <td>52.980000</td>\n",
       "    </tr>\n",
       "  </tbody>\n",
       "</table>\n",
       "<p>8 rows × 42 columns</p>\n",
       "</div>"
      ],
      "text/plain": [
       "        emp_length  annual_income  debt_to_income  annual_income_joint  \\\n",
       "count  9183.000000   1.000000e+04     9976.000000         1.495000e+03   \n",
       "mean      5.930306   7.922215e+04       19.308192         1.279146e+05   \n",
       "std       3.703734   6.473429e+04       15.004851         7.016838e+04   \n",
       "min       0.000000   0.000000e+00        0.000000         1.920000e+04   \n",
       "25%       2.000000   4.500000e+04       11.057500         8.683350e+04   \n",
       "50%       6.000000   6.500000e+04       17.570000         1.130000e+05   \n",
       "75%      10.000000   9.500000e+04       25.002500         1.515455e+05   \n",
       "max      10.000000   2.300000e+06      469.090000         1.100000e+06   \n",
       "\n",
       "       debt_to_income_joint    delinq_2y  months_since_last_delinq  \\\n",
       "count           1495.000000  10000.00000               4342.000000   \n",
       "mean              19.979304      0.21600                 36.760709   \n",
       "std                8.054781      0.68366                 21.634939   \n",
       "min                0.320000      0.00000                  1.000000   \n",
       "25%               14.160000      0.00000                 19.000000   \n",
       "50%               19.720000      0.00000                 34.000000   \n",
       "75%               25.500000      0.00000                 53.000000   \n",
       "max               39.980000     13.00000                118.000000   \n",
       "\n",
       "       earliest_credit_line  inquiries_last_12m  total_credit_lines  ...  \\\n",
       "count           10000.00000         10000.00000        10000.000000  ...   \n",
       "mean             2001.29000             1.95820           22.679600  ...   \n",
       "std                 7.79551             2.38013           11.885439  ...   \n",
       "min              1963.00000             0.00000            2.000000  ...   \n",
       "25%              1997.00000             0.00000           14.000000  ...   \n",
       "50%              2003.00000             1.00000           21.000000  ...   \n",
       "75%              2006.00000             3.00000           29.000000  ...   \n",
       "max              2015.00000            29.00000           87.000000  ...   \n",
       "\n",
       "       public_record_bankrupt   loan_amount          term  interest_rate  \\\n",
       "count            10000.000000  10000.000000  10000.000000   10000.000000   \n",
       "mean                 0.123800  16361.922500     43.272000      12.427524   \n",
       "std                  0.337172  10301.956759     11.029877       5.001105   \n",
       "min                  0.000000   1000.000000     36.000000       5.310000   \n",
       "25%                  0.000000   8000.000000     36.000000       9.430000   \n",
       "50%                  0.000000  14500.000000     36.000000      11.980000   \n",
       "75%                  0.000000  24000.000000     60.000000      15.050000   \n",
       "max                  3.000000  40000.000000     60.000000      30.940000   \n",
       "\n",
       "        installment       balance    paid_total  paid_principal  \\\n",
       "count  10000.000000  10000.000000  10000.000000    10000.000000   \n",
       "mean     476.205323  14458.916610   2494.234773     1894.448466   \n",
       "std      294.851627   9964.561865   3958.230365     3884.407175   \n",
       "min       30.750000      0.000000      0.000000        0.000000   \n",
       "25%      256.040000   6679.065000    928.700000      587.100000   \n",
       "50%      398.420000  12379.495000   1563.300000      984.990000   \n",
       "75%      644.690000  20690.182500   2616.005000     1694.555000   \n",
       "max     1566.590000  40000.000000  41630.443684    40000.000000   \n",
       "\n",
       "       paid_interest  paid_late_fees  \n",
       "count   10000.000000    10000.000000  \n",
       "mean      599.666781        0.119516  \n",
       "std       517.328062        1.813468  \n",
       "min         0.000000        0.000000  \n",
       "25%       221.757500        0.000000  \n",
       "50%       446.140000        0.000000  \n",
       "75%       825.420000        0.000000  \n",
       "max      4216.440000       52.980000  \n",
       "\n",
       "[8 rows x 42 columns]"
      ]
     },
     "execution_count": 48,
     "metadata": {},
     "output_type": "execute_result"
    }
   ],
   "source": [
    "df.describe()"
   ]
  },
  {
   "cell_type": "code",
   "execution_count": 49,
   "id": "691567af",
   "metadata": {},
   "outputs": [
    {
     "data": {
      "text/plain": [
       "emp_title                            833\n",
       "emp_length                           817\n",
       "state                                  0\n",
       "homeownership                          0\n",
       "annual_income                          0\n",
       "verified_income                        0\n",
       "debt_to_income                        24\n",
       "annual_income_joint                 8505\n",
       "verification_income_joint           8545\n",
       "debt_to_income_joint                8505\n",
       "delinq_2y                              0\n",
       "months_since_last_delinq            5658\n",
       "earliest_credit_line                   0\n",
       "inquiries_last_12m                     0\n",
       "total_credit_lines                     0\n",
       "open_credit_lines                      0\n",
       "total_credit_limit                     0\n",
       "total_credit_utilized                  0\n",
       "num_collections_last_12m               0\n",
       "num_historical_failed_to_pay           0\n",
       "months_since_90d_late               7715\n",
       "current_accounts_delinq                0\n",
       "total_collection_amount_ever           0\n",
       "current_installment_accounts           0\n",
       "accounts_opened_24m                    0\n",
       "months_since_last_credit_inquiry    1271\n",
       "num_satisfactory_accounts              0\n",
       "num_accounts_120d_past_due           318\n",
       "num_accounts_30d_past_due              0\n",
       "num_active_debit_accounts              0\n",
       "total_debit_limit                      0\n",
       "num_total_cc_accounts                  0\n",
       "num_open_cc_accounts                   0\n",
       "num_cc_carrying_balance                0\n",
       "num_mort_accounts                      0\n",
       "account_never_delinq_percent           0\n",
       "tax_liens                              0\n",
       "public_record_bankrupt                 0\n",
       "loan_purpose                           0\n",
       "application_type                       0\n",
       "loan_amount                            0\n",
       "term                                   0\n",
       "interest_rate                          0\n",
       "installment                            0\n",
       "grade                                  0\n",
       "sub_grade                              0\n",
       "issue_month                            0\n",
       "loan_status                            0\n",
       "initial_listing_status                 0\n",
       "disbursement_method                    0\n",
       "balance                                0\n",
       "paid_total                             0\n",
       "paid_principal                         0\n",
       "paid_interest                          0\n",
       "paid_late_fees                         0\n",
       "dtype: int64"
      ]
     },
     "execution_count": 49,
     "metadata": {},
     "output_type": "execute_result"
    }
   ],
   "source": [
    "df.isnull().sum()"
   ]
  },
  {
   "cell_type": "markdown",
   "id": "85d643a2",
   "metadata": {},
   "source": [
    "Some columns have a large number of missing values, let's first fix the missing values and then check for other types of data quality problems."
   ]
  },
  {
   "cell_type": "code",
   "execution_count": 50,
   "id": "2e1a98ef",
   "metadata": {},
   "outputs": [
    {
     "data": {
      "text/plain": [
       "emp_title                            8.0\n",
       "emp_length                           8.0\n",
       "state                                0.0\n",
       "homeownership                        0.0\n",
       "annual_income                        0.0\n",
       "verified_income                      0.0\n",
       "debt_to_income                       0.0\n",
       "annual_income_joint                 85.0\n",
       "verification_income_joint           85.0\n",
       "debt_to_income_joint                85.0\n",
       "delinq_2y                            0.0\n",
       "months_since_last_delinq            57.0\n",
       "earliest_credit_line                 0.0\n",
       "inquiries_last_12m                   0.0\n",
       "total_credit_lines                   0.0\n",
       "open_credit_lines                    0.0\n",
       "total_credit_limit                   0.0\n",
       "total_credit_utilized                0.0\n",
       "num_collections_last_12m             0.0\n",
       "num_historical_failed_to_pay         0.0\n",
       "months_since_90d_late               77.0\n",
       "current_accounts_delinq              0.0\n",
       "total_collection_amount_ever         0.0\n",
       "current_installment_accounts         0.0\n",
       "accounts_opened_24m                  0.0\n",
       "months_since_last_credit_inquiry    13.0\n",
       "num_satisfactory_accounts            0.0\n",
       "num_accounts_120d_past_due           3.0\n",
       "num_accounts_30d_past_due            0.0\n",
       "num_active_debit_accounts            0.0\n",
       "total_debit_limit                    0.0\n",
       "num_total_cc_accounts                0.0\n",
       "num_open_cc_accounts                 0.0\n",
       "num_cc_carrying_balance              0.0\n",
       "num_mort_accounts                    0.0\n",
       "account_never_delinq_percent         0.0\n",
       "tax_liens                            0.0\n",
       "public_record_bankrupt               0.0\n",
       "loan_purpose                         0.0\n",
       "application_type                     0.0\n",
       "loan_amount                          0.0\n",
       "term                                 0.0\n",
       "interest_rate                        0.0\n",
       "installment                          0.0\n",
       "grade                                0.0\n",
       "sub_grade                            0.0\n",
       "issue_month                          0.0\n",
       "loan_status                          0.0\n",
       "initial_listing_status               0.0\n",
       "disbursement_method                  0.0\n",
       "balance                              0.0\n",
       "paid_total                           0.0\n",
       "paid_principal                       0.0\n",
       "paid_interest                        0.0\n",
       "paid_late_fees                       0.0\n",
       "dtype: float64"
      ]
     },
     "execution_count": 50,
     "metadata": {},
     "output_type": "execute_result"
    }
   ],
   "source": [
    "# percentage of missing values in each column\n",
    "round(df.isnull().sum()/len(df.index), 2)*100"
   ]
  },
  {
   "cell_type": "markdown",
   "id": "28fae702",
   "metadata": {},
   "source": [
    "We can see that few columns have 85% missing values. First, let's get rid of the columns having 85% missing values."
   ]
  },
  {
   "cell_type": "code",
   "execution_count": 51,
   "id": "7535990f",
   "metadata": {},
   "outputs": [
    {
     "name": "stdout",
     "output_type": "stream",
     "text": [
      "Index(['annual_income_joint', 'verification_income_joint',\n",
      "       'debt_to_income_joint'],\n",
      "      dtype='object')\n"
     ]
    }
   ],
   "source": [
    "# removing the columns having more than 90% missing values\n",
    "missing_columns = df.columns[100*(df.isnull().sum()/len(df.index)) > 80]\n",
    "print(missing_columns)"
   ]
  },
  {
   "cell_type": "code",
   "execution_count": 52,
   "id": "74a187c9",
   "metadata": {},
   "outputs": [
    {
     "name": "stdout",
     "output_type": "stream",
     "text": [
      "(10000, 52)\n"
     ]
    }
   ],
   "source": [
    "df = df.drop(missing_columns, axis=1)\n",
    "print(df.shape)"
   ]
  },
  {
   "cell_type": "code",
   "execution_count": 53,
   "id": "6896e10d",
   "metadata": {},
   "outputs": [
    {
     "data": {
      "text/plain": [
       "emp_title                            8.33\n",
       "emp_length                           8.17\n",
       "state                                0.00\n",
       "homeownership                        0.00\n",
       "annual_income                        0.00\n",
       "verified_income                      0.00\n",
       "debt_to_income                       0.24\n",
       "delinq_2y                            0.00\n",
       "months_since_last_delinq            56.58\n",
       "earliest_credit_line                 0.00\n",
       "inquiries_last_12m                   0.00\n",
       "total_credit_lines                   0.00\n",
       "open_credit_lines                    0.00\n",
       "total_credit_limit                   0.00\n",
       "total_credit_utilized                0.00\n",
       "num_collections_last_12m             0.00\n",
       "num_historical_failed_to_pay         0.00\n",
       "months_since_90d_late               77.15\n",
       "current_accounts_delinq              0.00\n",
       "total_collection_amount_ever         0.00\n",
       "current_installment_accounts         0.00\n",
       "accounts_opened_24m                  0.00\n",
       "months_since_last_credit_inquiry    12.71\n",
       "num_satisfactory_accounts            0.00\n",
       "num_accounts_120d_past_due           3.18\n",
       "num_accounts_30d_past_due            0.00\n",
       "num_active_debit_accounts            0.00\n",
       "total_debit_limit                    0.00\n",
       "num_total_cc_accounts                0.00\n",
       "num_open_cc_accounts                 0.00\n",
       "num_cc_carrying_balance              0.00\n",
       "num_mort_accounts                    0.00\n",
       "account_never_delinq_percent         0.00\n",
       "tax_liens                            0.00\n",
       "public_record_bankrupt               0.00\n",
       "loan_purpose                         0.00\n",
       "application_type                     0.00\n",
       "loan_amount                          0.00\n",
       "term                                 0.00\n",
       "interest_rate                        0.00\n",
       "installment                          0.00\n",
       "grade                                0.00\n",
       "sub_grade                            0.00\n",
       "issue_month                          0.00\n",
       "loan_status                          0.00\n",
       "initial_listing_status               0.00\n",
       "disbursement_method                  0.00\n",
       "balance                              0.00\n",
       "paid_total                           0.00\n",
       "paid_principal                       0.00\n",
       "paid_interest                        0.00\n",
       "paid_late_fees                       0.00\n",
       "dtype: float64"
      ]
     },
     "execution_count": 53,
     "metadata": {},
     "output_type": "execute_result"
    }
   ],
   "source": [
    "# summarise number of missing values again\n",
    "100*(df.isnull().sum()/len(df.index))"
   ]
  },
  {
   "cell_type": "markdown",
   "id": "56d8c138",
   "metadata": {},
   "source": [
    "The data looks clean by and large. Let's also check whether all columns are in the correct format."
   ]
  },
  {
   "cell_type": "code",
   "execution_count": 54,
   "id": "17ec3429",
   "metadata": {},
   "outputs": [
    {
     "name": "stdout",
     "output_type": "stream",
     "text": [
      "<class 'pandas.core.frame.DataFrame'>\n",
      "RangeIndex: 10000 entries, 0 to 9999\n",
      "Data columns (total 52 columns):\n",
      " #   Column                            Non-Null Count  Dtype  \n",
      "---  ------                            --------------  -----  \n",
      " 0   emp_title                         9167 non-null   object \n",
      " 1   emp_length                        9183 non-null   float64\n",
      " 2   state                             10000 non-null  object \n",
      " 3   homeownership                     10000 non-null  object \n",
      " 4   annual_income                     10000 non-null  float64\n",
      " 5   verified_income                   10000 non-null  object \n",
      " 6   debt_to_income                    9976 non-null   float64\n",
      " 7   delinq_2y                         10000 non-null  int64  \n",
      " 8   months_since_last_delinq          4342 non-null   float64\n",
      " 9   earliest_credit_line              10000 non-null  int64  \n",
      " 10  inquiries_last_12m                10000 non-null  int64  \n",
      " 11  total_credit_lines                10000 non-null  int64  \n",
      " 12  open_credit_lines                 10000 non-null  int64  \n",
      " 13  total_credit_limit                10000 non-null  int64  \n",
      " 14  total_credit_utilized             10000 non-null  int64  \n",
      " 15  num_collections_last_12m          10000 non-null  int64  \n",
      " 16  num_historical_failed_to_pay      10000 non-null  int64  \n",
      " 17  months_since_90d_late             2285 non-null   float64\n",
      " 18  current_accounts_delinq           10000 non-null  int64  \n",
      " 19  total_collection_amount_ever      10000 non-null  int64  \n",
      " 20  current_installment_accounts      10000 non-null  int64  \n",
      " 21  accounts_opened_24m               10000 non-null  int64  \n",
      " 22  months_since_last_credit_inquiry  8729 non-null   float64\n",
      " 23  num_satisfactory_accounts         10000 non-null  int64  \n",
      " 24  num_accounts_120d_past_due        9682 non-null   float64\n",
      " 25  num_accounts_30d_past_due         10000 non-null  int64  \n",
      " 26  num_active_debit_accounts         10000 non-null  int64  \n",
      " 27  total_debit_limit                 10000 non-null  int64  \n",
      " 28  num_total_cc_accounts             10000 non-null  int64  \n",
      " 29  num_open_cc_accounts              10000 non-null  int64  \n",
      " 30  num_cc_carrying_balance           10000 non-null  int64  \n",
      " 31  num_mort_accounts                 10000 non-null  int64  \n",
      " 32  account_never_delinq_percent      10000 non-null  float64\n",
      " 33  tax_liens                         10000 non-null  int64  \n",
      " 34  public_record_bankrupt            10000 non-null  int64  \n",
      " 35  loan_purpose                      10000 non-null  object \n",
      " 36  application_type                  10000 non-null  object \n",
      " 37  loan_amount                       10000 non-null  int64  \n",
      " 38  term                              10000 non-null  int64  \n",
      " 39  interest_rate                     10000 non-null  float64\n",
      " 40  installment                       10000 non-null  float64\n",
      " 41  grade                             10000 non-null  object \n",
      " 42  sub_grade                         10000 non-null  object \n",
      " 43  issue_month                       10000 non-null  object \n",
      " 44  loan_status                       10000 non-null  object \n",
      " 45  initial_listing_status            10000 non-null  object \n",
      " 46  disbursement_method               10000 non-null  object \n",
      " 47  balance                           10000 non-null  float64\n",
      " 48  paid_total                        10000 non-null  float64\n",
      " 49  paid_principal                    10000 non-null  float64\n",
      " 50  paid_interest                     10000 non-null  float64\n",
      " 51  paid_late_fees                    10000 non-null  float64\n",
      "dtypes: float64(15), int64(25), object(12)\n",
      "memory usage: 4.0+ MB\n"
     ]
    }
   ],
   "source": [
    "df.info()"
   ]
  },
  {
   "cell_type": "code",
   "execution_count": 55,
   "id": "5a4042c8",
   "metadata": {},
   "outputs": [
    {
     "data": {
      "text/plain": [
       "MORTGAGE    4789\n",
       "RENT        3858\n",
       "OWN         1353\n",
       "Name: homeownership, dtype: int64"
      ]
     },
     "execution_count": 55,
     "metadata": {},
     "output_type": "execute_result"
    }
   ],
   "source": [
    "df[\"homeownership\"].value_counts()"
   ]
  },
  {
   "cell_type": "code",
   "execution_count": 56,
   "id": "d5dd2bd1",
   "metadata": {
    "scrolled": true
   },
   "outputs": [
    {
     "data": {
      "text/plain": [
       "Current               9375\n",
       "Fully Paid             447\n",
       "In Grace Period         67\n",
       "Late (31-120 days)      66\n",
       "Late (16-30 days)       38\n",
       "Charged Off              7\n",
       "Name: loan_status, dtype: int64"
      ]
     },
     "execution_count": 56,
     "metadata": {},
     "output_type": "execute_result"
    }
   ],
   "source": [
    "df[\"loan_status\"].value_counts()"
   ]
  },
  {
   "cell_type": "code",
   "execution_count": 57,
   "id": "15898b63",
   "metadata": {},
   "outputs": [
    {
     "data": {
      "text/plain": [
       "Cash         9284\n",
       "DirectPay     716\n",
       "Name: disbursement_method, dtype: int64"
      ]
     },
     "execution_count": 57,
     "metadata": {},
     "output_type": "execute_result"
    }
   ],
   "source": [
    "df[\"disbursement_method\"].value_counts()"
   ]
  },
  {
   "cell_type": "code",
   "execution_count": 58,
   "id": "cc6c5bce",
   "metadata": {},
   "outputs": [
    {
     "data": {
      "text/plain": [
       "B    3037\n",
       "C    2653\n",
       "A    2459\n",
       "D    1446\n",
       "E     335\n",
       "F      58\n",
       "G      12\n",
       "Name: grade, dtype: int64"
      ]
     },
     "execution_count": 58,
     "metadata": {},
     "output_type": "execute_result"
    }
   ],
   "source": [
    "df[\"grade\"].value_counts()"
   ]
  },
  {
   "cell_type": "code",
   "execution_count": 59,
   "id": "4c355783",
   "metadata": {},
   "outputs": [
    {
     "data": {
      "text/plain": [
       "debt_consolidation    5144\n",
       "credit_card           2249\n",
       "other                  914\n",
       "home_improvement       680\n",
       "major_purchase         303\n",
       "medical                162\n",
       "house                  151\n",
       "car                    131\n",
       "small_business         125\n",
       "moving                  69\n",
       "vacation                62\n",
       "renewable_energy        10\n",
       "Name: loan_purpose, dtype: int64"
      ]
     },
     "execution_count": 59,
     "metadata": {},
     "output_type": "execute_result"
    }
   ],
   "source": [
    "df[\"loan_purpose\"].value_counts()"
   ]
  },
  {
   "cell_type": "code",
   "execution_count": 60,
   "id": "bd547f85",
   "metadata": {},
   "outputs": [
    {
     "data": {
      "text/html": [
       "<div>\n",
       "<style scoped>\n",
       "    .dataframe tbody tr th:only-of-type {\n",
       "        vertical-align: middle;\n",
       "    }\n",
       "\n",
       "    .dataframe tbody tr th {\n",
       "        vertical-align: top;\n",
       "    }\n",
       "\n",
       "    .dataframe thead th {\n",
       "        text-align: right;\n",
       "    }\n",
       "</style>\n",
       "<table border=\"1\" class=\"dataframe\">\n",
       "  <thead>\n",
       "    <tr style=\"text-align: right;\">\n",
       "      <th></th>\n",
       "      <th>emp_length</th>\n",
       "      <th>annual_income</th>\n",
       "      <th>debt_to_income</th>\n",
       "      <th>delinq_2y</th>\n",
       "      <th>months_since_last_delinq</th>\n",
       "      <th>earliest_credit_line</th>\n",
       "      <th>inquiries_last_12m</th>\n",
       "      <th>total_credit_lines</th>\n",
       "      <th>open_credit_lines</th>\n",
       "      <th>total_credit_limit</th>\n",
       "      <th>...</th>\n",
       "      <th>public_record_bankrupt</th>\n",
       "      <th>loan_amount</th>\n",
       "      <th>term</th>\n",
       "      <th>interest_rate</th>\n",
       "      <th>installment</th>\n",
       "      <th>balance</th>\n",
       "      <th>paid_total</th>\n",
       "      <th>paid_principal</th>\n",
       "      <th>paid_interest</th>\n",
       "      <th>paid_late_fees</th>\n",
       "    </tr>\n",
       "  </thead>\n",
       "  <tbody>\n",
       "    <tr>\n",
       "      <th>count</th>\n",
       "      <td>9183.000000</td>\n",
       "      <td>1.000000e+04</td>\n",
       "      <td>9976.000000</td>\n",
       "      <td>10000.00000</td>\n",
       "      <td>4342.000000</td>\n",
       "      <td>10000.00000</td>\n",
       "      <td>10000.00000</td>\n",
       "      <td>10000.000000</td>\n",
       "      <td>10000.00000</td>\n",
       "      <td>1.000000e+04</td>\n",
       "      <td>...</td>\n",
       "      <td>10000.000000</td>\n",
       "      <td>10000.000000</td>\n",
       "      <td>10000.000000</td>\n",
       "      <td>10000.000000</td>\n",
       "      <td>10000.000000</td>\n",
       "      <td>10000.000000</td>\n",
       "      <td>10000.000000</td>\n",
       "      <td>10000.000000</td>\n",
       "      <td>10000.000000</td>\n",
       "      <td>10000.000000</td>\n",
       "    </tr>\n",
       "    <tr>\n",
       "      <th>mean</th>\n",
       "      <td>5.930306</td>\n",
       "      <td>7.922215e+04</td>\n",
       "      <td>19.308192</td>\n",
       "      <td>0.21600</td>\n",
       "      <td>36.760709</td>\n",
       "      <td>2001.29000</td>\n",
       "      <td>1.95820</td>\n",
       "      <td>22.679600</td>\n",
       "      <td>11.40440</td>\n",
       "      <td>1.836062e+05</td>\n",
       "      <td>...</td>\n",
       "      <td>0.123800</td>\n",
       "      <td>16361.922500</td>\n",
       "      <td>43.272000</td>\n",
       "      <td>12.427524</td>\n",
       "      <td>476.205323</td>\n",
       "      <td>14458.916610</td>\n",
       "      <td>2494.234773</td>\n",
       "      <td>1894.448466</td>\n",
       "      <td>599.666781</td>\n",
       "      <td>0.119516</td>\n",
       "    </tr>\n",
       "    <tr>\n",
       "      <th>std</th>\n",
       "      <td>3.703734</td>\n",
       "      <td>6.473429e+04</td>\n",
       "      <td>15.004851</td>\n",
       "      <td>0.68366</td>\n",
       "      <td>21.634939</td>\n",
       "      <td>7.79551</td>\n",
       "      <td>2.38013</td>\n",
       "      <td>11.885439</td>\n",
       "      <td>5.86828</td>\n",
       "      <td>1.876327e+05</td>\n",
       "      <td>...</td>\n",
       "      <td>0.337172</td>\n",
       "      <td>10301.956759</td>\n",
       "      <td>11.029877</td>\n",
       "      <td>5.001105</td>\n",
       "      <td>294.851627</td>\n",
       "      <td>9964.561865</td>\n",
       "      <td>3958.230365</td>\n",
       "      <td>3884.407175</td>\n",
       "      <td>517.328062</td>\n",
       "      <td>1.813468</td>\n",
       "    </tr>\n",
       "    <tr>\n",
       "      <th>min</th>\n",
       "      <td>0.000000</td>\n",
       "      <td>0.000000e+00</td>\n",
       "      <td>0.000000</td>\n",
       "      <td>0.00000</td>\n",
       "      <td>1.000000</td>\n",
       "      <td>1963.00000</td>\n",
       "      <td>0.00000</td>\n",
       "      <td>2.000000</td>\n",
       "      <td>0.00000</td>\n",
       "      <td>0.000000e+00</td>\n",
       "      <td>...</td>\n",
       "      <td>0.000000</td>\n",
       "      <td>1000.000000</td>\n",
       "      <td>36.000000</td>\n",
       "      <td>5.310000</td>\n",
       "      <td>30.750000</td>\n",
       "      <td>0.000000</td>\n",
       "      <td>0.000000</td>\n",
       "      <td>0.000000</td>\n",
       "      <td>0.000000</td>\n",
       "      <td>0.000000</td>\n",
       "    </tr>\n",
       "    <tr>\n",
       "      <th>25%</th>\n",
       "      <td>2.000000</td>\n",
       "      <td>4.500000e+04</td>\n",
       "      <td>11.057500</td>\n",
       "      <td>0.00000</td>\n",
       "      <td>19.000000</td>\n",
       "      <td>1997.00000</td>\n",
       "      <td>0.00000</td>\n",
       "      <td>14.000000</td>\n",
       "      <td>7.00000</td>\n",
       "      <td>5.159375e+04</td>\n",
       "      <td>...</td>\n",
       "      <td>0.000000</td>\n",
       "      <td>8000.000000</td>\n",
       "      <td>36.000000</td>\n",
       "      <td>9.430000</td>\n",
       "      <td>256.040000</td>\n",
       "      <td>6679.065000</td>\n",
       "      <td>928.700000</td>\n",
       "      <td>587.100000</td>\n",
       "      <td>221.757500</td>\n",
       "      <td>0.000000</td>\n",
       "    </tr>\n",
       "    <tr>\n",
       "      <th>50%</th>\n",
       "      <td>6.000000</td>\n",
       "      <td>6.500000e+04</td>\n",
       "      <td>17.570000</td>\n",
       "      <td>0.00000</td>\n",
       "      <td>34.000000</td>\n",
       "      <td>2003.00000</td>\n",
       "      <td>1.00000</td>\n",
       "      <td>21.000000</td>\n",
       "      <td>10.00000</td>\n",
       "      <td>1.146670e+05</td>\n",
       "      <td>...</td>\n",
       "      <td>0.000000</td>\n",
       "      <td>14500.000000</td>\n",
       "      <td>36.000000</td>\n",
       "      <td>11.980000</td>\n",
       "      <td>398.420000</td>\n",
       "      <td>12379.495000</td>\n",
       "      <td>1563.300000</td>\n",
       "      <td>984.990000</td>\n",
       "      <td>446.140000</td>\n",
       "      <td>0.000000</td>\n",
       "    </tr>\n",
       "    <tr>\n",
       "      <th>75%</th>\n",
       "      <td>10.000000</td>\n",
       "      <td>9.500000e+04</td>\n",
       "      <td>25.002500</td>\n",
       "      <td>0.00000</td>\n",
       "      <td>53.000000</td>\n",
       "      <td>2006.00000</td>\n",
       "      <td>3.00000</td>\n",
       "      <td>29.000000</td>\n",
       "      <td>14.00000</td>\n",
       "      <td>2.675500e+05</td>\n",
       "      <td>...</td>\n",
       "      <td>0.000000</td>\n",
       "      <td>24000.000000</td>\n",
       "      <td>60.000000</td>\n",
       "      <td>15.050000</td>\n",
       "      <td>644.690000</td>\n",
       "      <td>20690.182500</td>\n",
       "      <td>2616.005000</td>\n",
       "      <td>1694.555000</td>\n",
       "      <td>825.420000</td>\n",
       "      <td>0.000000</td>\n",
       "    </tr>\n",
       "    <tr>\n",
       "      <th>max</th>\n",
       "      <td>10.000000</td>\n",
       "      <td>2.300000e+06</td>\n",
       "      <td>469.090000</td>\n",
       "      <td>13.00000</td>\n",
       "      <td>118.000000</td>\n",
       "      <td>2015.00000</td>\n",
       "      <td>29.00000</td>\n",
       "      <td>87.000000</td>\n",
       "      <td>51.00000</td>\n",
       "      <td>3.386034e+06</td>\n",
       "      <td>...</td>\n",
       "      <td>3.000000</td>\n",
       "      <td>40000.000000</td>\n",
       "      <td>60.000000</td>\n",
       "      <td>30.940000</td>\n",
       "      <td>1566.590000</td>\n",
       "      <td>40000.000000</td>\n",
       "      <td>41630.443684</td>\n",
       "      <td>40000.000000</td>\n",
       "      <td>4216.440000</td>\n",
       "      <td>52.980000</td>\n",
       "    </tr>\n",
       "  </tbody>\n",
       "</table>\n",
       "<p>8 rows × 40 columns</p>\n",
       "</div>"
      ],
      "text/plain": [
       "        emp_length  annual_income  debt_to_income    delinq_2y  \\\n",
       "count  9183.000000   1.000000e+04     9976.000000  10000.00000   \n",
       "mean      5.930306   7.922215e+04       19.308192      0.21600   \n",
       "std       3.703734   6.473429e+04       15.004851      0.68366   \n",
       "min       0.000000   0.000000e+00        0.000000      0.00000   \n",
       "25%       2.000000   4.500000e+04       11.057500      0.00000   \n",
       "50%       6.000000   6.500000e+04       17.570000      0.00000   \n",
       "75%      10.000000   9.500000e+04       25.002500      0.00000   \n",
       "max      10.000000   2.300000e+06      469.090000     13.00000   \n",
       "\n",
       "       months_since_last_delinq  earliest_credit_line  inquiries_last_12m  \\\n",
       "count               4342.000000           10000.00000         10000.00000   \n",
       "mean                  36.760709            2001.29000             1.95820   \n",
       "std                   21.634939               7.79551             2.38013   \n",
       "min                    1.000000            1963.00000             0.00000   \n",
       "25%                   19.000000            1997.00000             0.00000   \n",
       "50%                   34.000000            2003.00000             1.00000   \n",
       "75%                   53.000000            2006.00000             3.00000   \n",
       "max                  118.000000            2015.00000            29.00000   \n",
       "\n",
       "       total_credit_lines  open_credit_lines  total_credit_limit  ...  \\\n",
       "count        10000.000000        10000.00000        1.000000e+04  ...   \n",
       "mean            22.679600           11.40440        1.836062e+05  ...   \n",
       "std             11.885439            5.86828        1.876327e+05  ...   \n",
       "min              2.000000            0.00000        0.000000e+00  ...   \n",
       "25%             14.000000            7.00000        5.159375e+04  ...   \n",
       "50%             21.000000           10.00000        1.146670e+05  ...   \n",
       "75%             29.000000           14.00000        2.675500e+05  ...   \n",
       "max             87.000000           51.00000        3.386034e+06  ...   \n",
       "\n",
       "       public_record_bankrupt   loan_amount          term  interest_rate  \\\n",
       "count            10000.000000  10000.000000  10000.000000   10000.000000   \n",
       "mean                 0.123800  16361.922500     43.272000      12.427524   \n",
       "std                  0.337172  10301.956759     11.029877       5.001105   \n",
       "min                  0.000000   1000.000000     36.000000       5.310000   \n",
       "25%                  0.000000   8000.000000     36.000000       9.430000   \n",
       "50%                  0.000000  14500.000000     36.000000      11.980000   \n",
       "75%                  0.000000  24000.000000     60.000000      15.050000   \n",
       "max                  3.000000  40000.000000     60.000000      30.940000   \n",
       "\n",
       "        installment       balance    paid_total  paid_principal  \\\n",
       "count  10000.000000  10000.000000  10000.000000    10000.000000   \n",
       "mean     476.205323  14458.916610   2494.234773     1894.448466   \n",
       "std      294.851627   9964.561865   3958.230365     3884.407175   \n",
       "min       30.750000      0.000000      0.000000        0.000000   \n",
       "25%      256.040000   6679.065000    928.700000      587.100000   \n",
       "50%      398.420000  12379.495000   1563.300000      984.990000   \n",
       "75%      644.690000  20690.182500   2616.005000     1694.555000   \n",
       "max     1566.590000  40000.000000  41630.443684    40000.000000   \n",
       "\n",
       "       paid_interest  paid_late_fees  \n",
       "count   10000.000000    10000.000000  \n",
       "mean      599.666781        0.119516  \n",
       "std       517.328062        1.813468  \n",
       "min         0.000000        0.000000  \n",
       "25%       221.757500        0.000000  \n",
       "50%       446.140000        0.000000  \n",
       "75%       825.420000        0.000000  \n",
       "max      4216.440000       52.980000  \n",
       "\n",
       "[8 rows x 40 columns]"
      ]
     },
     "execution_count": 60,
     "metadata": {},
     "output_type": "execute_result"
    }
   ],
   "source": [
    "df.describe()"
   ]
  },
  {
   "cell_type": "code",
   "execution_count": 61,
   "id": "79a6a893",
   "metadata": {
    "scrolled": true
   },
   "outputs": [
    {
     "data": {
      "text/plain": [
       "10.0    3332\n",
       "2.0      967\n",
       "3.0      862\n",
       "0.0      690\n",
       "1.0      685\n",
       "5.0      645\n",
       "4.0      611\n",
       "6.0      404\n",
       "7.0      368\n",
       "9.0      312\n",
       "8.0      307\n",
       "Name: emp_length, dtype: int64"
      ]
     },
     "execution_count": 61,
     "metadata": {},
     "output_type": "execute_result"
    }
   ],
   "source": [
    "df['emp_length'].value_counts()"
   ]
  },
  {
   "cell_type": "markdown",
   "id": "24ae3703",
   "metadata": {},
   "source": [
    "## Exploratory Data Analysis"
   ]
  },
  {
   "cell_type": "markdown",
   "id": "92c28a9d",
   "metadata": {},
   "source": [
    "## Data Exploration and Visualization"
   ]
  },
  {
   "cell_type": "markdown",
   "id": "6bb81343",
   "metadata": {},
   "source": [
    "Exploratory Data Analysis (EDA) is a method of looking into datasets to discover preliminary information, insights, or underlying trends. Data can be analysed in a methodical way to get insights and make decisions instead of making assumptions.The following are some of the benefits of exploratory data analysis:Extract averages, mean, minimum, and maximum values, among other things, to gain a better understanding of variables.Identify data mistakes, outliers, and missing values. Visualize data in graphs like box plots, scatter plots, and histograms to find trends. As a result, the major goal is to obtain a better understanding of the data and to apply tools efficiently to gain useful insights or make conclusions. In the next steps exploration of the lending club variables such as loan status and interest rate is done while plotting graphs and making observations from the visualized data. "
   ]
  },
  {
   "cell_type": "markdown",
   "id": "f0498463",
   "metadata": {},
   "source": [
    "### Loan Status"
   ]
  },
  {
   "cell_type": "code",
   "execution_count": 62,
   "id": "73e4f031",
   "metadata": {
    "scrolled": true
   },
   "outputs": [
    {
     "data": {
      "text/plain": [
       "<AxesSubplot:xlabel='loan_status', ylabel='count'>"
      ]
     },
     "execution_count": 62,
     "metadata": {},
     "output_type": "execute_result"
    },
    {
     "data": {
      "image/png": "[encoded data removed]",
      "text/plain": [
       "<Figure size 1080x864 with 1 Axes>"
      ]
     },
     "metadata": {
      "needs_background": "light"
     },
     "output_type": "display_data"
    }
   ],
   "source": [
    "plt.figure(figsize=(15,12))\n",
    "sns.countplot(x='loan_status',data=df)"
   ]
  },
  {
   "cell_type": "code",
   "execution_count": 63,
   "id": "73178a4f",
   "metadata": {},
   "outputs": [
    {
     "data": {
      "image/png": "[encoded data removed]",
      "text/plain": [
       "<Figure size 720x360 with 1 Axes>"
      ]
     },
     "metadata": {
      "needs_background": "light"
     },
     "output_type": "display_data"
    }
   ],
   "source": [
    "#Loan status with respective percentage present in the dataset\n",
    "def count_plot(dataframe,col):\n",
    "    plt.figure(figsize=(10,5))\n",
    "    ax=sns.countplot(x=dataframe[col])\n",
    "    totalrow = dataframe.shape[0]\n",
    "\n",
    "    plt.xlabel('Loan Status',fontweight ='bold',fontsize = 15)\n",
    "    plt.ylabel('Loan %',fontweight ='bold',fontsize = 15)\n",
    "    plt.title('Loan status with respective percentage')\n",
    "    for p in ax.patches:\n",
    "        ax.annotate('{:.2f}%'.format(100*p.get_height()/totalrow), (p.get_x()+0.3, p.get_height()+0.01 * totalrow),fontweight ='bold')\n",
    "    \n",
    "    ax.yaxis.set_ticks(np.linspace(0, totalrow, 5))\n",
    "    \n",
    "    _ = ax.set_yticklabels(map('{:.2f}%'.format, 100*ax.yaxis.get_majorticklocs()/totalrow))\n",
    "    plt.show()\n",
    "count_plot(df,'loan_status')"
   ]
  },
  {
   "cell_type": "markdown",
   "id": "f8275f6f",
   "metadata": {},
   "source": [
    "Observation 1:\n",
    "\n",
    "93.75 percent of loan are in current status,  4.47 percent  are  fully paid and 0.07 percent are \n",
    "of in the status charged off. This shows that high number of individuals are responsible towards clearing their loans when compared to those who are neglecting their loan untill they are charged off."
   ]
  },
  {
   "cell_type": "markdown",
   "id": "850a1d3c",
   "metadata": {},
   "source": [
    "## Load Amount"
   ]
  },
  {
   "cell_type": "code",
   "execution_count": 64,
   "id": "6984d8ee",
   "metadata": {},
   "outputs": [
    {
     "data": {
      "text/plain": [
       "count    10000.000000\n",
       "mean     16361.922500\n",
       "std      10301.956759\n",
       "min       1000.000000\n",
       "25%       8000.000000\n",
       "50%      14500.000000\n",
       "75%      24000.000000\n",
       "max      40000.000000\n",
       "Name: loan_amount, dtype: float64"
      ]
     },
     "execution_count": 64,
     "metadata": {},
     "output_type": "execute_result"
    }
   ],
   "source": [
    "df[\"loan_amount\"].describe()"
   ]
  },
  {
   "cell_type": "code",
   "execution_count": 65,
   "id": "37e87e11",
   "metadata": {
    "scrolled": true
   },
   "outputs": [],
   "source": [
    "## create bin for loan amount\n",
    "df['loan_amount_bin'] = pd.cut(df['loan_amount'], \n",
    "                               [x for x in range(0, 45000, 5000)],\n",
    "                               labels=[str(x)+'-'+str(x+5000)+'k' for x in range(0,40000,5000)])\n",
    "        "
   ]
  },
  {
   "cell_type": "code",
   "execution_count": 66,
   "id": "ad450bbd",
   "metadata": {},
   "outputs": [
    {
     "data": {
      "text/plain": [
       "5000-10000k     2484\n",
       "10000-15000k    1781\n",
       "15000-20000k    1574\n",
       "0-5000k         1339\n",
       "20000-25000k     943\n",
       "25000-30000k     759\n",
       "35000-40000k     575\n",
       "30000-35000k     545\n",
       "Name: loan_amount_bin, dtype: int64"
      ]
     },
     "execution_count": 66,
     "metadata": {},
     "output_type": "execute_result"
    }
   ],
   "source": [
    "df['loan_amount_bin'].value_counts()"
   ]
  },
  {
   "cell_type": "code",
   "execution_count": 67,
   "id": "3b86f11e",
   "metadata": {},
   "outputs": [
    {
     "data": {
      "image/png": "[encoded data removed]",
      "text/plain": [
       "<Figure size 1440x720 with 2 Axes>"
      ]
     },
     "metadata": {
      "needs_background": "light"
     },
     "output_type": "display_data"
    }
   ],
   "source": [
    "#Dist and box plot to know the distribution of loan_amount\n",
    "def plot_distribution(dataframe, col):\n",
    "    plt.figure(figsize=(20,10)) \n",
    "    plt.subplot(1, 2, 1)\n",
    "    plt.grid()\n",
    "    ax = sns.distplot(dataframe[col])\n",
    "    plt.subplot(1, 2, 2)\n",
    "    plt.grid()\n",
    "    sns.boxplot(x=dataframe[col], data=dataframe)\n",
    "    plt.show()\n",
    "\n",
    "plot_distribution(df, 'loan_amount')"
   ]
  },
  {
   "cell_type": "code",
   "execution_count": 68,
   "id": "7b973dbb",
   "metadata": {},
   "outputs": [
    {
     "data": {
      "text/plain": [
       "loan_amount_bin  loan_status       \n",
       "0-5000k          Current               92.233010\n",
       "                 Fully Paid             6.422704\n",
       "                 Late (16-30 days)      0.522778\n",
       "                 Late (31-120 days)     0.448096\n",
       "                 In Grace Period        0.298730\n",
       "                 Charged Off            0.074683\n",
       "5000-10000k      Current               94.565217\n",
       "                 Fully Paid             3.904992\n",
       "                 Late (31-120 days)     0.644122\n",
       "                 In Grace Period        0.523349\n",
       "                 Late (16-30 days)      0.281804\n",
       "                 Charged Off            0.080515\n",
       "10000-15000k     Current               93.318360\n",
       "                 Fully Paid             4.604155\n",
       "                 In Grace Period        0.898372\n",
       "                 Late (31-120 days)     0.673779\n",
       "                 Late (16-30 days)      0.449186\n",
       "                 Charged Off            0.056148\n",
       "15000-20000k     Current               95.171537\n",
       "                 Fully Paid             3.621347\n",
       "                 In Grace Period        0.508259\n",
       "                 Late (31-120 days)     0.381194\n",
       "                 Charged Off            0.190597\n",
       "                 Late (16-30 days)      0.127065\n",
       "20000-25000k     Current               93.743372\n",
       "                 Fully Paid             4.135737\n",
       "                 In Grace Period        0.848356\n",
       "                 Late (16-30 days)      0.636267\n",
       "                 Late (31-120 days)     0.636267\n",
       "25000-30000k     Current               91.963109\n",
       "                 Fully Paid             5.401845\n",
       "                 In Grace Period        1.185771\n",
       "                 Late (31-120 days)     1.185771\n",
       "                 Late (16-30 days)      0.263505\n",
       "30000-35000k     Current               92.660550\n",
       "                 Fully Paid             4.403670\n",
       "                 In Grace Period        1.467890\n",
       "                 Late (31-120 days)     1.100917\n",
       "                 Late (16-30 days)      0.366972\n",
       "35000-40000k     Current               94.608696\n",
       "                 Fully Paid             3.652174\n",
       "                 Late (31-120 days)     0.869565\n",
       "                 Late (16-30 days)      0.695652\n",
       "                 In Grace Period        0.173913\n",
       "Name: loan_status, dtype: float64"
      ]
     },
     "execution_count": 68,
     "metadata": {},
     "output_type": "execute_result"
    }
   ],
   "source": [
    "df.groupby('loan_amount_bin')['loan_status'].value_counts(normalize=True) * 100"
   ]
  },
  {
   "cell_type": "code",
   "execution_count": 69,
   "id": "d135c0e5",
   "metadata": {},
   "outputs": [
    {
     "data": {
      "image/png": "[encoded data removed]",
      "text/plain": [
       "<Figure size 1440x720 with 1 Axes>"
      ]
     },
     "metadata": {
      "needs_background": "light"
     },
     "output_type": "display_data"
    }
   ],
   "source": [
    "#Number of loan taken for loan amount range and their loan status\n",
    "plt.figure(figsize=(20, 10))\n",
    "s=sns.barplot(x='loan_amount_bin', y='loan_amount', hue=\"loan_status\", data=df, estimator=lambda x:len(x))\n",
    "s.set(xlabel='Loan Amount', ylabel='Number of Loans')\n",
    "plt.show()"
   ]
  },
  {
   "cell_type": "markdown",
   "id": "2f78b056",
   "metadata": {},
   "source": [
    "#### loans_status and their percentage\n"
   ]
  },
  {
   "cell_type": "code",
   "execution_count": 70,
   "id": "2bfc69ea",
   "metadata": {},
   "outputs": [
    {
     "data": {
      "text/html": [
       "<div>\n",
       "<style scoped>\n",
       "    .dataframe tbody tr th:only-of-type {\n",
       "        vertical-align: middle;\n",
       "    }\n",
       "\n",
       "    .dataframe tbody tr th {\n",
       "        vertical-align: top;\n",
       "    }\n",
       "\n",
       "    .dataframe thead th {\n",
       "        text-align: right;\n",
       "    }\n",
       "</style>\n",
       "<table border=\"1\" class=\"dataframe\">\n",
       "  <thead>\n",
       "    <tr style=\"text-align: right;\">\n",
       "      <th></th>\n",
       "      <th></th>\n",
       "      <th>loan_status</th>\n",
       "    </tr>\n",
       "    <tr>\n",
       "      <th>loan_amount_bin</th>\n",
       "      <th>loan_status</th>\n",
       "      <th></th>\n",
       "    </tr>\n",
       "  </thead>\n",
       "  <tbody>\n",
       "    <tr>\n",
       "      <th rowspan=\"6\" valign=\"top\">0-5000k</th>\n",
       "      <th>Current</th>\n",
       "      <td>92.233010</td>\n",
       "    </tr>\n",
       "    <tr>\n",
       "      <th>Fully Paid</th>\n",
       "      <td>6.422704</td>\n",
       "    </tr>\n",
       "    <tr>\n",
       "      <th>Late (16-30 days)</th>\n",
       "      <td>0.522778</td>\n",
       "    </tr>\n",
       "    <tr>\n",
       "      <th>Late (31-120 days)</th>\n",
       "      <td>0.448096</td>\n",
       "    </tr>\n",
       "    <tr>\n",
       "      <th>In Grace Period</th>\n",
       "      <td>0.298730</td>\n",
       "    </tr>\n",
       "    <tr>\n",
       "      <th>Charged Off</th>\n",
       "      <td>0.074683</td>\n",
       "    </tr>\n",
       "    <tr>\n",
       "      <th rowspan=\"6\" valign=\"top\">5000-10000k</th>\n",
       "      <th>Current</th>\n",
       "      <td>94.565217</td>\n",
       "    </tr>\n",
       "    <tr>\n",
       "      <th>Fully Paid</th>\n",
       "      <td>3.904992</td>\n",
       "    </tr>\n",
       "    <tr>\n",
       "      <th>Late (31-120 days)</th>\n",
       "      <td>0.644122</td>\n",
       "    </tr>\n",
       "    <tr>\n",
       "      <th>In Grace Period</th>\n",
       "      <td>0.523349</td>\n",
       "    </tr>\n",
       "    <tr>\n",
       "      <th>Late (16-30 days)</th>\n",
       "      <td>0.281804</td>\n",
       "    </tr>\n",
       "    <tr>\n",
       "      <th>Charged Off</th>\n",
       "      <td>0.080515</td>\n",
       "    </tr>\n",
       "    <tr>\n",
       "      <th rowspan=\"6\" valign=\"top\">10000-15000k</th>\n",
       "      <th>Current</th>\n",
       "      <td>93.318360</td>\n",
       "    </tr>\n",
       "    <tr>\n",
       "      <th>Fully Paid</th>\n",
       "      <td>4.604155</td>\n",
       "    </tr>\n",
       "    <tr>\n",
       "      <th>In Grace Period</th>\n",
       "      <td>0.898372</td>\n",
       "    </tr>\n",
       "    <tr>\n",
       "      <th>Late (31-120 days)</th>\n",
       "      <td>0.673779</td>\n",
       "    </tr>\n",
       "    <tr>\n",
       "      <th>Late (16-30 days)</th>\n",
       "      <td>0.449186</td>\n",
       "    </tr>\n",
       "    <tr>\n",
       "      <th>Charged Off</th>\n",
       "      <td>0.056148</td>\n",
       "    </tr>\n",
       "    <tr>\n",
       "      <th rowspan=\"6\" valign=\"top\">15000-20000k</th>\n",
       "      <th>Current</th>\n",
       "      <td>95.171537</td>\n",
       "    </tr>\n",
       "    <tr>\n",
       "      <th>Fully Paid</th>\n",
       "      <td>3.621347</td>\n",
       "    </tr>\n",
       "    <tr>\n",
       "      <th>In Grace Period</th>\n",
       "      <td>0.508259</td>\n",
       "    </tr>\n",
       "    <tr>\n",
       "      <th>Late (31-120 days)</th>\n",
       "      <td>0.381194</td>\n",
       "    </tr>\n",
       "    <tr>\n",
       "      <th>Charged Off</th>\n",
       "      <td>0.190597</td>\n",
       "    </tr>\n",
       "    <tr>\n",
       "      <th>Late (16-30 days)</th>\n",
       "      <td>0.127065</td>\n",
       "    </tr>\n",
       "    <tr>\n",
       "      <th rowspan=\"5\" valign=\"top\">20000-25000k</th>\n",
       "      <th>Current</th>\n",
       "      <td>93.743372</td>\n",
       "    </tr>\n",
       "    <tr>\n",
       "      <th>Fully Paid</th>\n",
       "      <td>4.135737</td>\n",
       "    </tr>\n",
       "    <tr>\n",
       "      <th>In Grace Period</th>\n",
       "      <td>0.848356</td>\n",
       "    </tr>\n",
       "    <tr>\n",
       "      <th>Late (16-30 days)</th>\n",
       "      <td>0.636267</td>\n",
       "    </tr>\n",
       "    <tr>\n",
       "      <th>Late (31-120 days)</th>\n",
       "      <td>0.636267</td>\n",
       "    </tr>\n",
       "    <tr>\n",
       "      <th rowspan=\"5\" valign=\"top\">25000-30000k</th>\n",
       "      <th>Current</th>\n",
       "      <td>91.963109</td>\n",
       "    </tr>\n",
       "    <tr>\n",
       "      <th>Fully Paid</th>\n",
       "      <td>5.401845</td>\n",
       "    </tr>\n",
       "    <tr>\n",
       "      <th>In Grace Period</th>\n",
       "      <td>1.185771</td>\n",
       "    </tr>\n",
       "    <tr>\n",
       "      <th>Late (31-120 days)</th>\n",
       "      <td>1.185771</td>\n",
       "    </tr>\n",
       "    <tr>\n",
       "      <th>Late (16-30 days)</th>\n",
       "      <td>0.263505</td>\n",
       "    </tr>\n",
       "    <tr>\n",
       "      <th rowspan=\"5\" valign=\"top\">30000-35000k</th>\n",
       "      <th>Current</th>\n",
       "      <td>92.660550</td>\n",
       "    </tr>\n",
       "    <tr>\n",
       "      <th>Fully Paid</th>\n",
       "      <td>4.403670</td>\n",
       "    </tr>\n",
       "    <tr>\n",
       "      <th>In Grace Period</th>\n",
       "      <td>1.467890</td>\n",
       "    </tr>\n",
       "    <tr>\n",
       "      <th>Late (31-120 days)</th>\n",
       "      <td>1.100917</td>\n",
       "    </tr>\n",
       "    <tr>\n",
       "      <th>Late (16-30 days)</th>\n",
       "      <td>0.366972</td>\n",
       "    </tr>\n",
       "    <tr>\n",
       "      <th rowspan=\"5\" valign=\"top\">35000-40000k</th>\n",
       "      <th>Current</th>\n",
       "      <td>94.608696</td>\n",
       "    </tr>\n",
       "    <tr>\n",
       "      <th>Fully Paid</th>\n",
       "      <td>3.652174</td>\n",
       "    </tr>\n",
       "    <tr>\n",
       "      <th>Late (31-120 days)</th>\n",
       "      <td>0.869565</td>\n",
       "    </tr>\n",
       "    <tr>\n",
       "      <th>Late (16-30 days)</th>\n",
       "      <td>0.695652</td>\n",
       "    </tr>\n",
       "    <tr>\n",
       "      <th>In Grace Period</th>\n",
       "      <td>0.173913</td>\n",
       "    </tr>\n",
       "  </tbody>\n",
       "</table>\n",
       "</div>"
      ],
      "text/plain": [
       "                                    loan_status\n",
       "loan_amount_bin loan_status                    \n",
       "0-5000k         Current               92.233010\n",
       "                Fully Paid             6.422704\n",
       "                Late (16-30 days)      0.522778\n",
       "                Late (31-120 days)     0.448096\n",
       "                In Grace Period        0.298730\n",
       "                Charged Off            0.074683\n",
       "5000-10000k     Current               94.565217\n",
       "                Fully Paid             3.904992\n",
       "                Late (31-120 days)     0.644122\n",
       "                In Grace Period        0.523349\n",
       "                Late (16-30 days)      0.281804\n",
       "                Charged Off            0.080515\n",
       "10000-15000k    Current               93.318360\n",
       "                Fully Paid             4.604155\n",
       "                In Grace Period        0.898372\n",
       "                Late (31-120 days)     0.673779\n",
       "                Late (16-30 days)      0.449186\n",
       "                Charged Off            0.056148\n",
       "15000-20000k    Current               95.171537\n",
       "                Fully Paid             3.621347\n",
       "                In Grace Period        0.508259\n",
       "                Late (31-120 days)     0.381194\n",
       "                Charged Off            0.190597\n",
       "                Late (16-30 days)      0.127065\n",
       "20000-25000k    Current               93.743372\n",
       "                Fully Paid             4.135737\n",
       "                In Grace Period        0.848356\n",
       "                Late (16-30 days)      0.636267\n",
       "                Late (31-120 days)     0.636267\n",
       "25000-30000k    Current               91.963109\n",
       "                Fully Paid             5.401845\n",
       "                In Grace Period        1.185771\n",
       "                Late (31-120 days)     1.185771\n",
       "                Late (16-30 days)      0.263505\n",
       "30000-35000k    Current               92.660550\n",
       "                Fully Paid             4.403670\n",
       "                In Grace Period        1.467890\n",
       "                Late (31-120 days)     1.100917\n",
       "                Late (16-30 days)      0.366972\n",
       "35000-40000k    Current               94.608696\n",
       "                Fully Paid             3.652174\n",
       "                Late (31-120 days)     0.869565\n",
       "                Late (16-30 days)      0.695652\n",
       "                In Grace Period        0.173913"
      ]
     },
     "execution_count": 70,
     "metadata": {},
     "output_type": "execute_result"
    }
   ],
   "source": [
    "pd.DataFrame(df.groupby('loan_amount_bin')['loan_status'].value_counts(normalize=True) * 100)"
   ]
  },
  {
   "cell_type": "markdown",
   "id": "5d2edeb0",
   "metadata": {},
   "source": [
    "Observation 2:\n",
    "    \n",
    "Most loan taken is in the 5000 - 10,000 range. From the above analysis it can be concluded that for higher Loan amount there is high chance of charge off, as in by just comparing the percentages of the charge off accross all the load amount range. For instance comparing the charge-off of 0-5000k and 10000k-15000k the later is lesser than the one from 0-5000k    \n"
   ]
  },
  {
   "cell_type": "markdown",
   "id": "a650b66d",
   "metadata": {},
   "source": []
  },
  {
   "cell_type": "markdown",
   "id": "6b3b239a",
   "metadata": {},
   "source": [
    "# Term"
   ]
  },
  {
   "cell_type": "code",
   "execution_count": 71,
   "id": "ffbad896",
   "metadata": {},
   "outputs": [
    {
     "data": {
      "image/png": "[encoded data removed]",
      "text/plain": [
       "<Figure size 432x288 with 1 Axes>"
      ]
     },
     "metadata": {
      "needs_background": "light"
     },
     "output_type": "display_data"
    }
   ],
   "source": [
    "#Number of loans given for the respective term\n",
    "ax=sns.countplot(x=df['term'])\n",
    "for p in ax.patches:\n",
    "        ax.annotate((p.get_height()), (p.get_x()+0.3, p.get_height()),fontweight ='bold')"
   ]
  },
  {
   "cell_type": "code",
   "execution_count": 72,
   "id": "effa893c",
   "metadata": {},
   "outputs": [
    {
     "data": {
      "image/png": "[encoded data removed]",
      "text/plain": [
       "<Figure size 720x360 with 1 Axes>"
      ]
     },
     "metadata": {
      "needs_background": "light"
     },
     "output_type": "display_data"
    }
   ],
   "source": [
    "#Number of loans for the term as per loan status\n",
    "plt.figure(figsize=(10,5))\n",
    "ax=sns.countplot(x=df['term'],hue=df['loan_status'])\n",
    "plt.xlabel('Loan Term',fontweight ='bold',fontsize = 15)\n",
    "plt.ylabel('No. of Loans',fontweight ='bold',fontsize = 15)\n",
    "plt.title('Loan  with respective term')\n",
    "for p in ax.patches:\n",
    "        ax.annotate((p.get_height()), (p.get_x()+0.15, p.get_height()),fontweight ='bold')"
   ]
  },
  {
   "cell_type": "code",
   "execution_count": 73,
   "id": "7f49293f",
   "metadata": {},
   "outputs": [
    {
     "data": {
      "text/plain": [
       "term  loan_status       \n",
       "36    Current               94.017217\n",
       "      Fully Paid             4.433286\n",
       "      In Grace Period        0.602582\n",
       "      Late (31-120 days)     0.588235\n",
       "      Late (16-30 days)      0.272597\n",
       "      Charged Off            0.086083\n",
       "60    Current               93.135314\n",
       "      Fully Paid             4.554455\n",
       "      In Grace Period        0.825083\n",
       "      Late (31-120 days)     0.825083\n",
       "      Late (16-30 days)      0.627063\n",
       "      Charged Off            0.033003\n",
       "Name: loan_status, dtype: float64"
      ]
     },
     "execution_count": 73,
     "metadata": {},
     "output_type": "execute_result"
    }
   ],
   "source": [
    "df.groupby('term')['loan_status'].value_counts(normalize=True) * 100"
   ]
  },
  {
   "cell_type": "markdown",
   "id": "ea2a3b79",
   "metadata": {},
   "source": [
    "Observation 3:\n",
    "\n",
    "Most loan taken is for 36 months. This is because the longer the term the higher the interest hence individuals will defer from taking long term loan. For 60 months loan term there is 0.033% charged off while for 36 months period, a charge off percentage of 0.08% is observed. "
   ]
  },
  {
   "cell_type": "markdown",
   "id": "932cb14d",
   "metadata": {},
   "source": [
    "# Grade"
   ]
  },
  {
   "cell_type": "code",
   "execution_count": 74,
   "id": "e61dc7d3",
   "metadata": {},
   "outputs": [
    {
     "data": {
      "text/plain": [
       "B    3037\n",
       "C    2653\n",
       "A    2459\n",
       "D    1446\n",
       "E     335\n",
       "F      58\n",
       "G      12\n",
       "Name: grade, dtype: int64"
      ]
     },
     "execution_count": 74,
     "metadata": {},
     "output_type": "execute_result"
    }
   ],
   "source": [
    "df['grade'].value_counts()"
   ]
  },
  {
   "cell_type": "code",
   "execution_count": 75,
   "id": "c6e6180c",
   "metadata": {},
   "outputs": [
    {
     "data": {
      "text/plain": [
       "grade  loan_status       \n",
       "A      Current               95.201301\n",
       "       Fully Paid             4.026027\n",
       "       In Grace Period        0.406669\n",
       "       Late (31-120 days)     0.162668\n",
       "       Late (16-30 days)      0.122001\n",
       "       Charged Off            0.081334\n",
       "B      Current               95.357260\n",
       "       Fully Paid             3.556141\n",
       "       Late (31-120 days)     0.428054\n",
       "       In Grace Period        0.362200\n",
       "       Late (16-30 days)      0.230491\n",
       "       Charged Off            0.065854\n",
       "C      Current               92.989069\n",
       "       Fully Paid             5.050886\n",
       "       Late (31-120 days)     0.753864\n",
       "       In Grace Period        0.716170\n",
       "       Late (16-30 days)      0.452318\n",
       "       Charged Off            0.037693\n",
       "D      Current               91.493776\n",
       "       Fully Paid             5.117566\n",
       "       Late (31-120 days)     1.313970\n",
       "       In Grace Period        1.244813\n",
       "       Late (16-30 days)      0.691563\n",
       "       Charged Off            0.138313\n",
       "E      Current               86.865672\n",
       "       Fully Paid             8.059701\n",
       "       In Grace Period        2.388060\n",
       "       Late (31-120 days)     1.791045\n",
       "       Late (16-30 days)      0.895522\n",
       "F      Current               81.034483\n",
       "       Fully Paid             6.896552\n",
       "       Late (31-120 days)     6.896552\n",
       "       Late (16-30 days)      3.448276\n",
       "       In Grace Period        1.724138\n",
       "G      Current               83.333333\n",
       "       Fully Paid             8.333333\n",
       "       Late (16-30 days)      8.333333\n",
       "Name: loan_status, dtype: float64"
      ]
     },
     "execution_count": 75,
     "metadata": {},
     "output_type": "execute_result"
    }
   ],
   "source": [
    "df.groupby('grade')['loan_status'].value_counts(normalize = True) * 100"
   ]
  },
  {
   "cell_type": "code",
   "execution_count": 76,
   "id": "11889da1",
   "metadata": {},
   "outputs": [
    {
     "data": {
      "image/png": "[encoded data removed]",
      "text/plain": [
       "<Figure size 1440x720 with 1 Axes>"
      ]
     },
     "metadata": {
      "needs_background": "light"
     },
     "output_type": "display_data"
    }
   ],
   "source": [
    "#Grade for the laon and their loan_status\n",
    "plt.figure(figsize=(20,10))\n",
    "ax=sns.countplot(x=df['grade'],hue=df['loan_status'],order=df['grade'].value_counts().index)\n",
    "plt.xlabel('Grade',fontweight ='bold',fontsize = 15)\n",
    "plt.ylabel('No. of Loan',fontweight ='bold',fontsize = 15)\n",
    "plt.title('Grade and there Loan status')\n",
    "for p in ax.patches:\n",
    "        ax.annotate((p.get_height()), (p.get_x()+0.04, p.get_height()),fontweight ='bold')"
   ]
  },
  {
   "cell_type": "markdown",
   "id": "0d563f27",
   "metadata": {},
   "source": [
    "Observation 4:\n",
    "\n",
    "Loan grading is a system for providing a quality grade to a loan based on the credit history of the borrower, the quality of the collateral, and the likelihood of principal and interest payments.For our case,grade B took more loan than that of any other grades and there are significantly less number of loans taken for grade A, F, and G but high percentage of loans that are charged off."
   ]
  },
  {
   "cell_type": "markdown",
   "id": "b50352bc",
   "metadata": {},
   "source": [
    "# Employment lenght"
   ]
  },
  {
   "cell_type": "code",
   "execution_count": 77,
   "id": "8f3d9985",
   "metadata": {},
   "outputs": [
    {
     "data": {
      "text/plain": [
       "emp_length  loan_status       \n",
       "0.0         Current               92.898551\n",
       "            Fully Paid             5.362319\n",
       "            Late (16-30 days)      0.724638\n",
       "            Late (31-120 days)     0.724638\n",
       "            In Grace Period        0.289855\n",
       "1.0         Current               92.116788\n",
       "            Fully Paid             5.839416\n",
       "            Late (31-120 days)     0.875912\n",
       "            In Grace Period        0.729927\n",
       "            Late (16-30 days)      0.291971\n",
       "            Charged Off            0.145985\n",
       "2.0         Current               93.898656\n",
       "            Fully Paid             3.516029\n",
       "            In Grace Period        1.240951\n",
       "            Late (16-30 days)      0.723888\n",
       "            Late (31-120 days)     0.620476\n",
       "3.0         Current               94.547564\n",
       "            Fully Paid             4.060325\n",
       "            Late (31-120 days)     0.812065\n",
       "            Late (16-30 days)      0.464037\n",
       "            In Grace Period        0.116009\n",
       "4.0         Current               93.617021\n",
       "            Fully Paid             5.073650\n",
       "            In Grace Period        0.654664\n",
       "            Late (16-30 days)      0.327332\n",
       "            Charged Off            0.163666\n",
       "            Late (31-120 days)     0.163666\n",
       "5.0         Current               95.193798\n",
       "            Fully Paid             3.255814\n",
       "            In Grace Period        0.620155\n",
       "            Late (31-120 days)     0.620155\n",
       "            Charged Off            0.155039\n",
       "            Late (16-30 days)      0.155039\n",
       "6.0         Current               95.049505\n",
       "            Fully Paid             4.455446\n",
       "            Late (16-30 days)      0.247525\n",
       "            Late (31-120 days)     0.247525\n",
       "7.0         Current               92.119565\n",
       "            Fully Paid             5.706522\n",
       "            In Grace Period        0.815217\n",
       "            Late (31-120 days)     0.815217\n",
       "            Charged Off            0.271739\n",
       "            Late (16-30 days)      0.271739\n",
       "8.0         Current               93.159609\n",
       "            Fully Paid             3.908795\n",
       "            Late (31-120 days)     1.628664\n",
       "            In Grace Period        1.302932\n",
       "9.0         Current               93.269231\n",
       "            Fully Paid             4.487179\n",
       "            Late (31-120 days)     0.961538\n",
       "            In Grace Period        0.641026\n",
       "            Charged Off            0.320513\n",
       "            Late (16-30 days)      0.320513\n",
       "10.0        Current               93.577431\n",
       "            Fully Paid             4.711885\n",
       "            In Grace Period        0.780312\n",
       "            Late (31-120 days)     0.540216\n",
       "            Late (16-30 days)      0.360144\n",
       "            Charged Off            0.030012\n",
       "Name: loan_status, dtype: float64"
      ]
     },
     "execution_count": 77,
     "metadata": {},
     "output_type": "execute_result"
    }
   ],
   "source": [
    "percentage=df.groupby('emp_length')['loan_status'].value_counts(normalize=True) * 100\n",
    "percentage"
   ]
  },
  {
   "cell_type": "code",
   "execution_count": 78,
   "id": "811952ad",
   "metadata": {},
   "outputs": [
    {
     "data": {
      "image/png": "[encoded data removed]",
      "text/plain": [
       "<Figure size 1440x720 with 1 Axes>"
      ]
     },
     "metadata": {
      "needs_background": "light"
     },
     "output_type": "display_data"
    }
   ],
   "source": [
    "#Loan count as per employment duration and their loan status\n",
    "plt.figure(figsize=(20,10))\n",
    "ax=sns.countplot(x=df['emp_length'],hue=df['loan_status'],order=df['emp_length'].value_counts().index)\n",
    "plt.xlabel('Employment duration of the employee',fontweight ='bold',fontsize = 15)\n",
    "plt.ylabel('No. of Loan',fontweight ='bold',fontsize = 15)\n",
    "plt.title('Employment duration and their Loan status')\n",
    "for p in ax.patches:\n",
    "        ax.annotate((p.get_height()), (p.get_x()+0.05, p.get_height()),fontweight ='bold')"
   ]
  },
  {
   "cell_type": "markdown",
   "id": "b8f957ca",
   "metadata": {},
   "source": [
    "Observation 5:\n",
    "    \n",
    "Most number of loans are taken by people who have 10 or 10+ years of employment. This might be due to the increase in employee salary as they might have the abilty to repay the loan in due time or even earlier which allows them to have higher chances of getting higher loan amount. "
   ]
  },
  {
   "cell_type": "markdown",
   "id": "2e6ff278",
   "metadata": {},
   "source": [
    "### Loan_amount, interest_rate, and loan_status"
   ]
  },
  {
   "cell_type": "code",
   "execution_count": 79,
   "id": "1ebadc7d",
   "metadata": {},
   "outputs": [
    {
     "data": {
      "image/png": "[encoded data removed]",
      "text/plain": [
       "<Figure size 1080x360 with 1 Axes>"
      ]
     },
     "metadata": {
      "needs_background": "light"
     },
     "output_type": "display_data"
    }
   ],
   "source": [
    "#Loan amount vs interest rate vs loan status\n",
    "plt.figure(figsize=(15,5)) \n",
    "sns.scatterplot(x=df['loan_amount'],y=df['interest_rate'],hue=df['loan_status'])\n",
    "plt.xlabel('Loan amount',fontweight ='bold',fontsize = 15)\n",
    "plt.ylabel('Interest rate',fontweight ='bold',fontsize = 15)\n",
    "plt.title('Loan amount vs interest rate vs loan status')\n",
    "plt.grid()\n",
    "plt.show()"
   ]
  },
  {
   "cell_type": "markdown",
   "id": "83209018",
   "metadata": {},
   "source": [
    "Observation 6:\n",
    "\n",
    "According to the analysis made until now, it is observed that the higher loan amount there is higher interest rate, This is according to traditional finance theory, as the size of a loan grows larger, the interest rate on that loan rises to compensate for the increased risk. There is also more charged off loan for higher interest rate because of the inabilty to payback the loan."
   ]
  },
  {
   "cell_type": "markdown",
   "id": "0cff658e",
   "metadata": {},
   "source": [
    "## loan_amount, interest_rate, term"
   ]
  },
  {
   "cell_type": "code",
   "execution_count": 80,
   "id": "92415ca4",
   "metadata": {},
   "outputs": [
    {
     "data": {
      "image/png": "[encoded data removed]",
      "text/plain": [
       "<Figure size 1080x360 with 1 Axes>"
      ]
     },
     "metadata": {
      "needs_background": "light"
     },
     "output_type": "display_data"
    }
   ],
   "source": [
    "#Loan amount vs interest rate vs term\n",
    "plt.figure(figsize=(15,5)) \n",
    "sns.scatterplot(x=df['loan_amount'],y=df['interest_rate'],hue=df['term'])\n",
    "plt.xlabel('Loan amount',fontweight ='bold',fontsize = 15)\n",
    "plt.ylabel('Interest rate',fontweight ='bold',fontsize = 15)\n",
    "plt.title('Loan amount vs interest rate vs term')\n",
    "plt.show()"
   ]
  },
  {
   "cell_type": "markdown",
   "id": "263e55ca",
   "metadata": {},
   "source": [
    "Observation:\n",
    "    \n",
    "The study discovered that the lending interest rate and average loan term have a favorable association. This means that while the lending interest rate rises in months, the average loan term decreases, and vice versa.\n",
    "For higher loan amount most of the loan term is 60 months."
   ]
  },
  {
   "cell_type": "markdown",
   "id": "e80bf94f",
   "metadata": {},
   "source": [
    "# Prediction"
   ]
  },
  {
   "cell_type": "markdown",
   "id": "1032e07f",
   "metadata": {},
   "source": [
    "### Data Cleaning and Preprocessing"
   ]
  },
  {
   "cell_type": "markdown",
   "id": "bfcd197b",
   "metadata": {},
   "source": [
    "The translation of the raw dataset into a comprehensible format is known as data preparation. Data preprocessing is a critical step in data mining that improves data efficiency. Data pretreatment techniques have a direct impact on the results of any analytical procedure or algorithm.There are several steps that can be done to achieve the data cleaning processes:"
   ]
  },
  {
   "cell_type": "markdown",
   "id": "3e44d55f",
   "metadata": {},
   "source": [
    "#### Importing Datasets and Libraries"
   ]
  },
  {
   "cell_type": "markdown",
   "id": "7ca2efd5",
   "metadata": {},
   "source": [
    "Importing thelibraries that will be used in the program is usually the first step.since we have loaded our data earlier on we don't need to import to import libraries for loading datasets. A library is essentially a collection of callable and usable modules.\n",
    "The libraries can also be imported into Python programming using the 'import' keyword."
   ]
  },
  {
   "cell_type": "code",
   "execution_count": 81,
   "id": "33d7d1f2",
   "metadata": {},
   "outputs": [],
   "source": [
    "# libraries\n",
    "from sklearn.model_selection import train_test_split\n",
    "from sklearn.preprocessing import MinMaxScaler\n",
    "from sklearn.ensemble import RandomForestRegressor\n",
    "from sklearn.metrics import r2_score\n",
    "from sklearn.linear_model import LinearRegression\n",
    "from sklearn import metrics\n",
    "import seaborn as sns\n",
    "from sklearn.model_selection import validation_curve\n",
    "from sklearn.linear_model import Ridge"
   ]
  },
  {
   "cell_type": "markdown",
   "id": "748d6e9e",
   "metadata": {},
   "source": [
    "#### Loading the Data"
   ]
  },
  {
   "cell_type": "markdown",
   "id": "479bdb34",
   "metadata": {},
   "source": [
    "Loading the data using Pandas library using read_csv() method"
   ]
  },
  {
   "cell_type": "code",
   "execution_count": 82,
   "id": "f5c89c73",
   "metadata": {},
   "outputs": [
    {
     "data": {
      "text/html": [
       "<div>\n",
       "<style scoped>\n",
       "    .dataframe tbody tr th:only-of-type {\n",
       "        vertical-align: middle;\n",
       "    }\n",
       "\n",
       "    .dataframe tbody tr th {\n",
       "        vertical-align: top;\n",
       "    }\n",
       "\n",
       "    .dataframe thead th {\n",
       "        text-align: right;\n",
       "    }\n",
       "</style>\n",
       "<table border=\"1\" class=\"dataframe\">\n",
       "  <thead>\n",
       "    <tr style=\"text-align: right;\">\n",
       "      <th></th>\n",
       "      <th>emp_title</th>\n",
       "      <th>emp_length</th>\n",
       "      <th>state</th>\n",
       "      <th>homeownership</th>\n",
       "      <th>annual_income</th>\n",
       "      <th>verified_income</th>\n",
       "      <th>debt_to_income</th>\n",
       "      <th>annual_income_joint</th>\n",
       "      <th>verification_income_joint</th>\n",
       "      <th>debt_to_income_joint</th>\n",
       "      <th>...</th>\n",
       "      <th>sub_grade</th>\n",
       "      <th>issue_month</th>\n",
       "      <th>loan_status</th>\n",
       "      <th>initial_listing_status</th>\n",
       "      <th>disbursement_method</th>\n",
       "      <th>balance</th>\n",
       "      <th>paid_total</th>\n",
       "      <th>paid_principal</th>\n",
       "      <th>paid_interest</th>\n",
       "      <th>paid_late_fees</th>\n",
       "    </tr>\n",
       "  </thead>\n",
       "  <tbody>\n",
       "    <tr>\n",
       "      <th>0</th>\n",
       "      <td>global config engineer</td>\n",
       "      <td>3.0</td>\n",
       "      <td>NJ</td>\n",
       "      <td>MORTGAGE</td>\n",
       "      <td>90000.0</td>\n",
       "      <td>Verified</td>\n",
       "      <td>18.01</td>\n",
       "      <td>NaN</td>\n",
       "      <td>NaN</td>\n",
       "      <td>NaN</td>\n",
       "      <td>...</td>\n",
       "      <td>C3</td>\n",
       "      <td>Mar-2018</td>\n",
       "      <td>Current</td>\n",
       "      <td>whole</td>\n",
       "      <td>Cash</td>\n",
       "      <td>27015.86</td>\n",
       "      <td>1999.33</td>\n",
       "      <td>984.14</td>\n",
       "      <td>1015.19</td>\n",
       "      <td>0.0</td>\n",
       "    </tr>\n",
       "    <tr>\n",
       "      <th>1</th>\n",
       "      <td>warehouse office clerk</td>\n",
       "      <td>10.0</td>\n",
       "      <td>HI</td>\n",
       "      <td>RENT</td>\n",
       "      <td>40000.0</td>\n",
       "      <td>Not Verified</td>\n",
       "      <td>5.04</td>\n",
       "      <td>NaN</td>\n",
       "      <td>NaN</td>\n",
       "      <td>NaN</td>\n",
       "      <td>...</td>\n",
       "      <td>C1</td>\n",
       "      <td>Feb-2018</td>\n",
       "      <td>Current</td>\n",
       "      <td>whole</td>\n",
       "      <td>Cash</td>\n",
       "      <td>4651.37</td>\n",
       "      <td>499.12</td>\n",
       "      <td>348.63</td>\n",
       "      <td>150.49</td>\n",
       "      <td>0.0</td>\n",
       "    </tr>\n",
       "    <tr>\n",
       "      <th>2</th>\n",
       "      <td>assembly</td>\n",
       "      <td>3.0</td>\n",
       "      <td>WI</td>\n",
       "      <td>RENT</td>\n",
       "      <td>40000.0</td>\n",
       "      <td>Source Verified</td>\n",
       "      <td>21.15</td>\n",
       "      <td>NaN</td>\n",
       "      <td>NaN</td>\n",
       "      <td>NaN</td>\n",
       "      <td>...</td>\n",
       "      <td>D1</td>\n",
       "      <td>Feb-2018</td>\n",
       "      <td>Current</td>\n",
       "      <td>fractional</td>\n",
       "      <td>Cash</td>\n",
       "      <td>1824.63</td>\n",
       "      <td>281.80</td>\n",
       "      <td>175.37</td>\n",
       "      <td>106.43</td>\n",
       "      <td>0.0</td>\n",
       "    </tr>\n",
       "    <tr>\n",
       "      <th>3</th>\n",
       "      <td>customer service</td>\n",
       "      <td>1.0</td>\n",
       "      <td>PA</td>\n",
       "      <td>RENT</td>\n",
       "      <td>30000.0</td>\n",
       "      <td>Not Verified</td>\n",
       "      <td>10.16</td>\n",
       "      <td>NaN</td>\n",
       "      <td>NaN</td>\n",
       "      <td>NaN</td>\n",
       "      <td>...</td>\n",
       "      <td>A3</td>\n",
       "      <td>Jan-2018</td>\n",
       "      <td>Current</td>\n",
       "      <td>whole</td>\n",
       "      <td>Cash</td>\n",
       "      <td>18853.26</td>\n",
       "      <td>3312.89</td>\n",
       "      <td>2746.74</td>\n",
       "      <td>566.15</td>\n",
       "      <td>0.0</td>\n",
       "    </tr>\n",
       "    <tr>\n",
       "      <th>4</th>\n",
       "      <td>security supervisor</td>\n",
       "      <td>10.0</td>\n",
       "      <td>CA</td>\n",
       "      <td>RENT</td>\n",
       "      <td>35000.0</td>\n",
       "      <td>Verified</td>\n",
       "      <td>57.96</td>\n",
       "      <td>57000.0</td>\n",
       "      <td>Verified</td>\n",
       "      <td>37.66</td>\n",
       "      <td>...</td>\n",
       "      <td>C3</td>\n",
       "      <td>Mar-2018</td>\n",
       "      <td>Current</td>\n",
       "      <td>whole</td>\n",
       "      <td>Cash</td>\n",
       "      <td>21430.15</td>\n",
       "      <td>2324.65</td>\n",
       "      <td>1569.85</td>\n",
       "      <td>754.80</td>\n",
       "      <td>0.0</td>\n",
       "    </tr>\n",
       "  </tbody>\n",
       "</table>\n",
       "<p>5 rows × 55 columns</p>\n",
       "</div>"
      ],
      "text/plain": [
       "                 emp_title  emp_length state homeownership  annual_income  \\\n",
       "0  global config engineer          3.0    NJ      MORTGAGE        90000.0   \n",
       "1   warehouse office clerk        10.0    HI          RENT        40000.0   \n",
       "2                 assembly         3.0    WI          RENT        40000.0   \n",
       "3         customer service         1.0    PA          RENT        30000.0   \n",
       "4     security supervisor         10.0    CA          RENT        35000.0   \n",
       "\n",
       "   verified_income  debt_to_income  annual_income_joint  \\\n",
       "0         Verified           18.01                  NaN   \n",
       "1     Not Verified            5.04                  NaN   \n",
       "2  Source Verified           21.15                  NaN   \n",
       "3     Not Verified           10.16                  NaN   \n",
       "4         Verified           57.96              57000.0   \n",
       "\n",
       "  verification_income_joint  debt_to_income_joint  ...  sub_grade  \\\n",
       "0                       NaN                   NaN  ...         C3   \n",
       "1                       NaN                   NaN  ...         C1   \n",
       "2                       NaN                   NaN  ...         D1   \n",
       "3                       NaN                   NaN  ...         A3   \n",
       "4                  Verified                 37.66  ...         C3   \n",
       "\n",
       "   issue_month  loan_status  initial_listing_status  disbursement_method  \\\n",
       "0     Mar-2018      Current                   whole                 Cash   \n",
       "1     Feb-2018      Current                   whole                 Cash   \n",
       "2     Feb-2018      Current              fractional                 Cash   \n",
       "3     Jan-2018      Current                   whole                 Cash   \n",
       "4     Mar-2018      Current                   whole                 Cash   \n",
       "\n",
       "    balance  paid_total  paid_principal  paid_interest  paid_late_fees  \n",
       "0  27015.86     1999.33          984.14        1015.19             0.0  \n",
       "1   4651.37      499.12          348.63         150.49             0.0  \n",
       "2   1824.63      281.80          175.37         106.43             0.0  \n",
       "3  18853.26     3312.89         2746.74         566.15             0.0  \n",
       "4  21430.15     2324.65         1569.85         754.80             0.0  \n",
       "\n",
       "[5 rows x 55 columns]"
      ]
     },
     "execution_count": 82,
     "metadata": {},
     "output_type": "execute_result"
    }
   ],
   "source": [
    "df=pd.read_csv(\"loans_full_schema.csv\")\n",
    "df.head()"
   ]
  },
  {
   "cell_type": "code",
   "execution_count": 83,
   "id": "8474375b",
   "metadata": {
    "scrolled": true
   },
   "outputs": [
    {
     "name": "stdout",
     "output_type": "stream",
     "text": [
      "<class 'pandas.core.frame.DataFrame'>\n",
      "RangeIndex: 10000 entries, 0 to 9999\n",
      "Data columns (total 55 columns):\n",
      " #   Column                            Non-Null Count  Dtype  \n",
      "---  ------                            --------------  -----  \n",
      " 0   emp_title                         9167 non-null   object \n",
      " 1   emp_length                        9183 non-null   float64\n",
      " 2   state                             10000 non-null  object \n",
      " 3   homeownership                     10000 non-null  object \n",
      " 4   annual_income                     10000 non-null  float64\n",
      " 5   verified_income                   10000 non-null  object \n",
      " 6   debt_to_income                    9976 non-null   float64\n",
      " 7   annual_income_joint               1495 non-null   float64\n",
      " 8   verification_income_joint         1455 non-null   object \n",
      " 9   debt_to_income_joint              1495 non-null   float64\n",
      " 10  delinq_2y                         10000 non-null  int64  \n",
      " 11  months_since_last_delinq          4342 non-null   float64\n",
      " 12  earliest_credit_line              10000 non-null  int64  \n",
      " 13  inquiries_last_12m                10000 non-null  int64  \n",
      " 14  total_credit_lines                10000 non-null  int64  \n",
      " 15  open_credit_lines                 10000 non-null  int64  \n",
      " 16  total_credit_limit                10000 non-null  int64  \n",
      " 17  total_credit_utilized             10000 non-null  int64  \n",
      " 18  num_collections_last_12m          10000 non-null  int64  \n",
      " 19  num_historical_failed_to_pay      10000 non-null  int64  \n",
      " 20  months_since_90d_late             2285 non-null   float64\n",
      " 21  current_accounts_delinq           10000 non-null  int64  \n",
      " 22  total_collection_amount_ever      10000 non-null  int64  \n",
      " 23  current_installment_accounts      10000 non-null  int64  \n",
      " 24  accounts_opened_24m               10000 non-null  int64  \n",
      " 25  months_since_last_credit_inquiry  8729 non-null   float64\n",
      " 26  num_satisfactory_accounts         10000 non-null  int64  \n",
      " 27  num_accounts_120d_past_due        9682 non-null   float64\n",
      " 28  num_accounts_30d_past_due         10000 non-null  int64  \n",
      " 29  num_active_debit_accounts         10000 non-null  int64  \n",
      " 30  total_debit_limit                 10000 non-null  int64  \n",
      " 31  num_total_cc_accounts             10000 non-null  int64  \n",
      " 32  num_open_cc_accounts              10000 non-null  int64  \n",
      " 33  num_cc_carrying_balance           10000 non-null  int64  \n",
      " 34  num_mort_accounts                 10000 non-null  int64  \n",
      " 35  account_never_delinq_percent      10000 non-null  float64\n",
      " 36  tax_liens                         10000 non-null  int64  \n",
      " 37  public_record_bankrupt            10000 non-null  int64  \n",
      " 38  loan_purpose                      10000 non-null  object \n",
      " 39  application_type                  10000 non-null  object \n",
      " 40  loan_amount                       10000 non-null  int64  \n",
      " 41  term                              10000 non-null  int64  \n",
      " 42  interest_rate                     10000 non-null  float64\n",
      " 43  installment                       10000 non-null  float64\n",
      " 44  grade                             10000 non-null  object \n",
      " 45  sub_grade                         10000 non-null  object \n",
      " 46  issue_month                       10000 non-null  object \n",
      " 47  loan_status                       10000 non-null  object \n",
      " 48  initial_listing_status            10000 non-null  object \n",
      " 49  disbursement_method               10000 non-null  object \n",
      " 50  balance                           10000 non-null  float64\n",
      " 51  paid_total                        10000 non-null  float64\n",
      " 52  paid_principal                    10000 non-null  float64\n",
      " 53  paid_interest                     10000 non-null  float64\n",
      " 54  paid_late_fees                    10000 non-null  float64\n",
      "dtypes: float64(17), int64(25), object(13)\n",
      "memory usage: 4.2+ MB\n"
     ]
    }
   ],
   "source": [
    "df.info()"
   ]
  },
  {
   "cell_type": "code",
   "execution_count": null,
   "id": "fa8410fc",
   "metadata": {},
   "outputs": [],
   "source": []
  },
  {
   "cell_type": "markdown",
   "id": "db5d39fa",
   "metadata": {},
   "source": [
    "# Dealing with null values"
   ]
  },
  {
   "cell_type": "markdown",
   "id": "1acbd951",
   "metadata": {},
   "source": [
    "We may occasionally discover that some data in the dataset is missing. If missing values are identified, we can either eliminate those rows or calculate the feature's mean, mode, or median and replace them with missing values. This is an approximation that can add to the dataset's variance."
   ]
  },
  {
   "cell_type": "markdown",
   "id": "96ca7536",
   "metadata": {},
   "source": [
    "#### checking for null values"
   ]
  },
  {
   "cell_type": "markdown",
   "id": "760c409e",
   "metadata": {},
   "source": [
    "We can find the total number of entries as well as the count of non-null values with datatype of all features using info(). We can also use dataset.isnull() to see how many null values there are in our dataset."
   ]
  },
  {
   "cell_type": "code",
   "execution_count": 84,
   "id": "6011324c",
   "metadata": {},
   "outputs": [
    {
     "name": "stdout",
     "output_type": "stream",
     "text": [
      "<class 'pandas.core.frame.DataFrame'>\n",
      "RangeIndex: 10000 entries, 0 to 9999\n",
      "Data columns (total 55 columns):\n",
      " #   Column                            Non-Null Count  Dtype  \n",
      "---  ------                            --------------  -----  \n",
      " 0   emp_title                         9167 non-null   object \n",
      " 1   emp_length                        9183 non-null   float64\n",
      " 2   state                             10000 non-null  object \n",
      " 3   homeownership                     10000 non-null  object \n",
      " 4   annual_income                     10000 non-null  float64\n",
      " 5   verified_income                   10000 non-null  object \n",
      " 6   debt_to_income                    9976 non-null   float64\n",
      " 7   annual_income_joint               1495 non-null   float64\n",
      " 8   verification_income_joint         1455 non-null   object \n",
      " 9   debt_to_income_joint              1495 non-null   float64\n",
      " 10  delinq_2y                         10000 non-null  int64  \n",
      " 11  months_since_last_delinq          4342 non-null   float64\n",
      " 12  earliest_credit_line              10000 non-null  int64  \n",
      " 13  inquiries_last_12m                10000 non-null  int64  \n",
      " 14  total_credit_lines                10000 non-null  int64  \n",
      " 15  open_credit_lines                 10000 non-null  int64  \n",
      " 16  total_credit_limit                10000 non-null  int64  \n",
      " 17  total_credit_utilized             10000 non-null  int64  \n",
      " 18  num_collections_last_12m          10000 non-null  int64  \n",
      " 19  num_historical_failed_to_pay      10000 non-null  int64  \n",
      " 20  months_since_90d_late             2285 non-null   float64\n",
      " 21  current_accounts_delinq           10000 non-null  int64  \n",
      " 22  total_collection_amount_ever      10000 non-null  int64  \n",
      " 23  current_installment_accounts      10000 non-null  int64  \n",
      " 24  accounts_opened_24m               10000 non-null  int64  \n",
      " 25  months_since_last_credit_inquiry  8729 non-null   float64\n",
      " 26  num_satisfactory_accounts         10000 non-null  int64  \n",
      " 27  num_accounts_120d_past_due        9682 non-null   float64\n",
      " 28  num_accounts_30d_past_due         10000 non-null  int64  \n",
      " 29  num_active_debit_accounts         10000 non-null  int64  \n",
      " 30  total_debit_limit                 10000 non-null  int64  \n",
      " 31  num_total_cc_accounts             10000 non-null  int64  \n",
      " 32  num_open_cc_accounts              10000 non-null  int64  \n",
      " 33  num_cc_carrying_balance           10000 non-null  int64  \n",
      " 34  num_mort_accounts                 10000 non-null  int64  \n",
      " 35  account_never_delinq_percent      10000 non-null  float64\n",
      " 36  tax_liens                         10000 non-null  int64  \n",
      " 37  public_record_bankrupt            10000 non-null  int64  \n",
      " 38  loan_purpose                      10000 non-null  object \n",
      " 39  application_type                  10000 non-null  object \n",
      " 40  loan_amount                       10000 non-null  int64  \n",
      " 41  term                              10000 non-null  int64  \n",
      " 42  interest_rate                     10000 non-null  float64\n",
      " 43  installment                       10000 non-null  float64\n",
      " 44  grade                             10000 non-null  object \n",
      " 45  sub_grade                         10000 non-null  object \n",
      " 46  issue_month                       10000 non-null  object \n",
      " 47  loan_status                       10000 non-null  object \n",
      " 48  initial_listing_status            10000 non-null  object \n",
      " 49  disbursement_method               10000 non-null  object \n",
      " 50  balance                           10000 non-null  float64\n",
      " 51  paid_total                        10000 non-null  float64\n",
      " 52  paid_principal                    10000 non-null  float64\n",
      " 53  paid_interest                     10000 non-null  float64\n",
      " 54  paid_late_fees                    10000 non-null  float64\n",
      "dtypes: float64(17), int64(25), object(13)\n",
      "memory usage: 4.2+ MB\n"
     ]
    }
   ],
   "source": [
    "df.info()"
   ]
  },
  {
   "cell_type": "code",
   "execution_count": 85,
   "id": "2e911280",
   "metadata": {},
   "outputs": [
    {
     "data": {
      "text/plain": [
       "emp_title                            833\n",
       "emp_length                           817\n",
       "state                                  0\n",
       "homeownership                          0\n",
       "annual_income                          0\n",
       "verified_income                        0\n",
       "debt_to_income                        24\n",
       "annual_income_joint                 8505\n",
       "verification_income_joint           8545\n",
       "debt_to_income_joint                8505\n",
       "delinq_2y                              0\n",
       "months_since_last_delinq            5658\n",
       "earliest_credit_line                   0\n",
       "inquiries_last_12m                     0\n",
       "total_credit_lines                     0\n",
       "open_credit_lines                      0\n",
       "total_credit_limit                     0\n",
       "total_credit_utilized                  0\n",
       "num_collections_last_12m               0\n",
       "num_historical_failed_to_pay           0\n",
       "months_since_90d_late               7715\n",
       "current_accounts_delinq                0\n",
       "total_collection_amount_ever           0\n",
       "current_installment_accounts           0\n",
       "accounts_opened_24m                    0\n",
       "months_since_last_credit_inquiry    1271\n",
       "num_satisfactory_accounts              0\n",
       "num_accounts_120d_past_due           318\n",
       "num_accounts_30d_past_due              0\n",
       "num_active_debit_accounts              0\n",
       "total_debit_limit                      0\n",
       "num_total_cc_accounts                  0\n",
       "num_open_cc_accounts                   0\n",
       "num_cc_carrying_balance                0\n",
       "num_mort_accounts                      0\n",
       "account_never_delinq_percent           0\n",
       "tax_liens                              0\n",
       "public_record_bankrupt                 0\n",
       "loan_purpose                           0\n",
       "application_type                       0\n",
       "loan_amount                            0\n",
       "term                                   0\n",
       "interest_rate                          0\n",
       "installment                            0\n",
       "grade                                  0\n",
       "sub_grade                              0\n",
       "issue_month                            0\n",
       "loan_status                            0\n",
       "initial_listing_status                 0\n",
       "disbursement_method                    0\n",
       "balance                                0\n",
       "paid_total                             0\n",
       "paid_principal                         0\n",
       "paid_interest                          0\n",
       "paid_late_fees                         0\n",
       "dtype: int64"
      ]
     },
     "execution_count": 85,
     "metadata": {},
     "output_type": "execute_result"
    }
   ],
   "source": [
    "df.isnull().sum()"
   ]
  },
  {
   "cell_type": "code",
   "execution_count": 88,
   "id": "650cab2d",
   "metadata": {},
   "outputs": [],
   "source": [
    "cols_to_del=[\"emp_title\",\"annual_income_joint\",\"verification_income_joint\",\n",
    "             \"months_since_90d_late\",\"debt_to_income_joint\",\"months_since_last_credit_inquiry\",\n",
    "             \"months_since_last_delinq\"]"
   ]
  },
  {
   "cell_type": "markdown",
   "id": "3e5c0134",
   "metadata": {},
   "source": [
    "## Dropping Null value with higher percentage"
   ]
  },
  {
   "cell_type": "markdown",
   "id": "7dd9861f",
   "metadata": {},
   "source": [
    "The dropna() method in Pandas can be used to remove missing data from a row or column. Dropna() can be used to eliminate all the rows with missing data. We can replace null values with strategy.\n",
    "For replacing null values we use the strategy that can be applied on a feature which has numeric data. We can calculate the Mean, Median or Mode of the feature and replace it with the missing values"
   ]
  },
  {
   "cell_type": "code",
   "execution_count": 89,
   "id": "9212c661",
   "metadata": {},
   "outputs": [
    {
     "data": {
      "text/plain": [
       "(10000, 48)"
      ]
     },
     "execution_count": 89,
     "metadata": {},
     "output_type": "execute_result"
    }
   ],
   "source": [
    "new_df=df.drop(cols_to_del,axis=1)\n",
    "new_df.shape"
   ]
  },
  {
   "cell_type": "code",
   "execution_count": null,
   "id": "5d8565ed",
   "metadata": {},
   "outputs": [],
   "source": []
  },
  {
   "cell_type": "markdown",
   "id": "4cee8dde",
   "metadata": {},
   "source": [
    "## categorical and dummy variables"
   ]
  },
  {
   "cell_type": "markdown",
   "id": "8cff7f8f",
   "metadata": {},
   "source": [
    "Because the models are built on mathematical equations and calculations, it is now more difficult for machines to interpret and process texts rather than numbers. As a result, we must encode categorical data. we will convert them to dummies as below, although you can use other Scikit libraries."
   ]
  },
  {
   "cell_type": "code",
   "execution_count": 90,
   "id": "a94ea1b9",
   "metadata": {},
   "outputs": [
    {
     "name": "stdout",
     "output_type": "stream",
     "text": [
      "['emp_title', 'state', 'homeownership', 'verified_income', 'verification_income_joint', 'loan_purpose', 'application_type', 'grade', 'sub_grade', 'issue_month', 'loan_status', 'initial_listing_status', 'disbursement_method']\n"
     ]
    }
   ],
   "source": [
    "print([column for column in df.columns if df[column].dtype == object])"
   ]
  },
  {
   "cell_type": "code",
   "execution_count": 91,
   "id": "71614d1b",
   "metadata": {},
   "outputs": [
    {
     "data": {
      "text/plain": [
       "['state',\n",
       " 'homeownership',\n",
       " 'verified_income',\n",
       " 'loan_purpose',\n",
       " 'application_type',\n",
       " 'grade',\n",
       " 'sub_grade',\n",
       " 'issue_month',\n",
       " 'loan_status',\n",
       " 'initial_listing_status',\n",
       " 'disbursement_method']"
      ]
     },
     "execution_count": 91,
     "metadata": {},
     "output_type": "execute_result"
    }
   ],
   "source": [
    "dummies=[column for column in new_df.columns if new_df[column].dtype == object]\n",
    "dummies"
   ]
  },
  {
   "cell_type": "code",
   "execution_count": 92,
   "id": "878fe2aa",
   "metadata": {},
   "outputs": [],
   "source": [
    "dummies = ['state', 'homeownership', 'verified_income', 'loan_purpose',\"loan_status\", \n",
    "           'application_type', 'grade',\"sub_grade\",\"issue_month\",\"initial_listing_status\",\"disbursement_method\"]"
   ]
  },
  {
   "cell_type": "code",
   "execution_count": 93,
   "id": "a58bc26b",
   "metadata": {},
   "outputs": [
    {
     "data": {
      "text/html": [
       "<div>\n",
       "<style scoped>\n",
       "    .dataframe tbody tr th:only-of-type {\n",
       "        vertical-align: middle;\n",
       "    }\n",
       "\n",
       "    .dataframe tbody tr th {\n",
       "        vertical-align: top;\n",
       "    }\n",
       "\n",
       "    .dataframe thead th {\n",
       "        text-align: right;\n",
       "    }\n",
       "</style>\n",
       "<table border=\"1\" class=\"dataframe\">\n",
       "  <thead>\n",
       "    <tr style=\"text-align: right;\">\n",
       "      <th></th>\n",
       "      <th>emp_length</th>\n",
       "      <th>annual_income</th>\n",
       "      <th>debt_to_income</th>\n",
       "      <th>delinq_2y</th>\n",
       "      <th>earliest_credit_line</th>\n",
       "      <th>inquiries_last_12m</th>\n",
       "      <th>total_credit_lines</th>\n",
       "      <th>open_credit_lines</th>\n",
       "      <th>total_credit_limit</th>\n",
       "      <th>total_credit_utilized</th>\n",
       "      <th>...</th>\n",
       "      <th>sub_grade_F2</th>\n",
       "      <th>sub_grade_F3</th>\n",
       "      <th>sub_grade_F4</th>\n",
       "      <th>sub_grade_F5</th>\n",
       "      <th>sub_grade_G1</th>\n",
       "      <th>sub_grade_G4</th>\n",
       "      <th>issue_month_Jan-2018</th>\n",
       "      <th>issue_month_Mar-2018</th>\n",
       "      <th>initial_listing_status_whole</th>\n",
       "      <th>disbursement_method_DirectPay</th>\n",
       "    </tr>\n",
       "  </thead>\n",
       "  <tbody>\n",
       "    <tr>\n",
       "      <th>0</th>\n",
       "      <td>3.0</td>\n",
       "      <td>90000.0</td>\n",
       "      <td>18.01</td>\n",
       "      <td>0</td>\n",
       "      <td>2001</td>\n",
       "      <td>6</td>\n",
       "      <td>28</td>\n",
       "      <td>10</td>\n",
       "      <td>70795</td>\n",
       "      <td>38767</td>\n",
       "      <td>...</td>\n",
       "      <td>0</td>\n",
       "      <td>0</td>\n",
       "      <td>0</td>\n",
       "      <td>0</td>\n",
       "      <td>0</td>\n",
       "      <td>0</td>\n",
       "      <td>0</td>\n",
       "      <td>1</td>\n",
       "      <td>1</td>\n",
       "      <td>0</td>\n",
       "    </tr>\n",
       "    <tr>\n",
       "      <th>1</th>\n",
       "      <td>10.0</td>\n",
       "      <td>40000.0</td>\n",
       "      <td>5.04</td>\n",
       "      <td>0</td>\n",
       "      <td>1996</td>\n",
       "      <td>1</td>\n",
       "      <td>30</td>\n",
       "      <td>14</td>\n",
       "      <td>28800</td>\n",
       "      <td>4321</td>\n",
       "      <td>...</td>\n",
       "      <td>0</td>\n",
       "      <td>0</td>\n",
       "      <td>0</td>\n",
       "      <td>0</td>\n",
       "      <td>0</td>\n",
       "      <td>0</td>\n",
       "      <td>0</td>\n",
       "      <td>0</td>\n",
       "      <td>1</td>\n",
       "      <td>0</td>\n",
       "    </tr>\n",
       "    <tr>\n",
       "      <th>2</th>\n",
       "      <td>3.0</td>\n",
       "      <td>40000.0</td>\n",
       "      <td>21.15</td>\n",
       "      <td>0</td>\n",
       "      <td>2006</td>\n",
       "      <td>4</td>\n",
       "      <td>31</td>\n",
       "      <td>10</td>\n",
       "      <td>24193</td>\n",
       "      <td>16000</td>\n",
       "      <td>...</td>\n",
       "      <td>0</td>\n",
       "      <td>0</td>\n",
       "      <td>0</td>\n",
       "      <td>0</td>\n",
       "      <td>0</td>\n",
       "      <td>0</td>\n",
       "      <td>0</td>\n",
       "      <td>0</td>\n",
       "      <td>0</td>\n",
       "      <td>0</td>\n",
       "    </tr>\n",
       "    <tr>\n",
       "      <th>3</th>\n",
       "      <td>1.0</td>\n",
       "      <td>30000.0</td>\n",
       "      <td>10.16</td>\n",
       "      <td>0</td>\n",
       "      <td>2007</td>\n",
       "      <td>0</td>\n",
       "      <td>4</td>\n",
       "      <td>4</td>\n",
       "      <td>25400</td>\n",
       "      <td>4997</td>\n",
       "      <td>...</td>\n",
       "      <td>0</td>\n",
       "      <td>0</td>\n",
       "      <td>0</td>\n",
       "      <td>0</td>\n",
       "      <td>0</td>\n",
       "      <td>0</td>\n",
       "      <td>1</td>\n",
       "      <td>0</td>\n",
       "      <td>1</td>\n",
       "      <td>0</td>\n",
       "    </tr>\n",
       "    <tr>\n",
       "      <th>4</th>\n",
       "      <td>10.0</td>\n",
       "      <td>35000.0</td>\n",
       "      <td>57.96</td>\n",
       "      <td>0</td>\n",
       "      <td>2008</td>\n",
       "      <td>7</td>\n",
       "      <td>22</td>\n",
       "      <td>16</td>\n",
       "      <td>69839</td>\n",
       "      <td>52722</td>\n",
       "      <td>...</td>\n",
       "      <td>0</td>\n",
       "      <td>0</td>\n",
       "      <td>0</td>\n",
       "      <td>0</td>\n",
       "      <td>0</td>\n",
       "      <td>0</td>\n",
       "      <td>0</td>\n",
       "      <td>1</td>\n",
       "      <td>1</td>\n",
       "      <td>0</td>\n",
       "    </tr>\n",
       "    <tr>\n",
       "      <th>...</th>\n",
       "      <td>...</td>\n",
       "      <td>...</td>\n",
       "      <td>...</td>\n",
       "      <td>...</td>\n",
       "      <td>...</td>\n",
       "      <td>...</td>\n",
       "      <td>...</td>\n",
       "      <td>...</td>\n",
       "      <td>...</td>\n",
       "      <td>...</td>\n",
       "      <td>...</td>\n",
       "      <td>...</td>\n",
       "      <td>...</td>\n",
       "      <td>...</td>\n",
       "      <td>...</td>\n",
       "      <td>...</td>\n",
       "      <td>...</td>\n",
       "      <td>...</td>\n",
       "      <td>...</td>\n",
       "      <td>...</td>\n",
       "      <td>...</td>\n",
       "    </tr>\n",
       "    <tr>\n",
       "      <th>9995</th>\n",
       "      <td>10.0</td>\n",
       "      <td>108000.0</td>\n",
       "      <td>22.28</td>\n",
       "      <td>0</td>\n",
       "      <td>2008</td>\n",
       "      <td>5</td>\n",
       "      <td>44</td>\n",
       "      <td>13</td>\n",
       "      <td>199195</td>\n",
       "      <td>77963</td>\n",
       "      <td>...</td>\n",
       "      <td>0</td>\n",
       "      <td>0</td>\n",
       "      <td>0</td>\n",
       "      <td>0</td>\n",
       "      <td>0</td>\n",
       "      <td>0</td>\n",
       "      <td>1</td>\n",
       "      <td>0</td>\n",
       "      <td>1</td>\n",
       "      <td>0</td>\n",
       "    </tr>\n",
       "    <tr>\n",
       "      <th>9996</th>\n",
       "      <td>8.0</td>\n",
       "      <td>121000.0</td>\n",
       "      <td>32.38</td>\n",
       "      <td>4</td>\n",
       "      <td>1994</td>\n",
       "      <td>1</td>\n",
       "      <td>28</td>\n",
       "      <td>15</td>\n",
       "      <td>382061</td>\n",
       "      <td>101571</td>\n",
       "      <td>...</td>\n",
       "      <td>0</td>\n",
       "      <td>0</td>\n",
       "      <td>0</td>\n",
       "      <td>0</td>\n",
       "      <td>0</td>\n",
       "      <td>0</td>\n",
       "      <td>0</td>\n",
       "      <td>0</td>\n",
       "      <td>1</td>\n",
       "      <td>0</td>\n",
       "    </tr>\n",
       "    <tr>\n",
       "      <th>9997</th>\n",
       "      <td>10.0</td>\n",
       "      <td>67000.0</td>\n",
       "      <td>45.26</td>\n",
       "      <td>2</td>\n",
       "      <td>2004</td>\n",
       "      <td>0</td>\n",
       "      <td>18</td>\n",
       "      <td>11</td>\n",
       "      <td>346402</td>\n",
       "      <td>95421</td>\n",
       "      <td>...</td>\n",
       "      <td>0</td>\n",
       "      <td>0</td>\n",
       "      <td>0</td>\n",
       "      <td>0</td>\n",
       "      <td>0</td>\n",
       "      <td>0</td>\n",
       "      <td>0</td>\n",
       "      <td>0</td>\n",
       "      <td>0</td>\n",
       "      <td>0</td>\n",
       "    </tr>\n",
       "    <tr>\n",
       "      <th>9998</th>\n",
       "      <td>1.0</td>\n",
       "      <td>80000.0</td>\n",
       "      <td>11.99</td>\n",
       "      <td>0</td>\n",
       "      <td>1999</td>\n",
       "      <td>1</td>\n",
       "      <td>38</td>\n",
       "      <td>15</td>\n",
       "      <td>294475</td>\n",
       "      <td>27641</td>\n",
       "      <td>...</td>\n",
       "      <td>0</td>\n",
       "      <td>0</td>\n",
       "      <td>0</td>\n",
       "      <td>0</td>\n",
       "      <td>0</td>\n",
       "      <td>0</td>\n",
       "      <td>0</td>\n",
       "      <td>0</td>\n",
       "      <td>1</td>\n",
       "      <td>0</td>\n",
       "    </tr>\n",
       "    <tr>\n",
       "      <th>9999</th>\n",
       "      <td>3.0</td>\n",
       "      <td>66000.0</td>\n",
       "      <td>20.82</td>\n",
       "      <td>0</td>\n",
       "      <td>2005</td>\n",
       "      <td>0</td>\n",
       "      <td>15</td>\n",
       "      <td>11</td>\n",
       "      <td>91887</td>\n",
       "      <td>53413</td>\n",
       "      <td>...</td>\n",
       "      <td>0</td>\n",
       "      <td>0</td>\n",
       "      <td>0</td>\n",
       "      <td>0</td>\n",
       "      <td>0</td>\n",
       "      <td>0</td>\n",
       "      <td>0</td>\n",
       "      <td>0</td>\n",
       "      <td>1</td>\n",
       "      <td>0</td>\n",
       "    </tr>\n",
       "  </tbody>\n",
       "</table>\n",
       "<p>10000 rows × 148 columns</p>\n",
       "</div>"
      ],
      "text/plain": [
       "      emp_length  annual_income  debt_to_income  delinq_2y  \\\n",
       "0            3.0        90000.0           18.01          0   \n",
       "1           10.0        40000.0            5.04          0   \n",
       "2            3.0        40000.0           21.15          0   \n",
       "3            1.0        30000.0           10.16          0   \n",
       "4           10.0        35000.0           57.96          0   \n",
       "...          ...            ...             ...        ...   \n",
       "9995        10.0       108000.0           22.28          0   \n",
       "9996         8.0       121000.0           32.38          4   \n",
       "9997        10.0        67000.0           45.26          2   \n",
       "9998         1.0        80000.0           11.99          0   \n",
       "9999         3.0        66000.0           20.82          0   \n",
       "\n",
       "      earliest_credit_line  inquiries_last_12m  total_credit_lines  \\\n",
       "0                     2001                   6                  28   \n",
       "1                     1996                   1                  30   \n",
       "2                     2006                   4                  31   \n",
       "3                     2007                   0                   4   \n",
       "4                     2008                   7                  22   \n",
       "...                    ...                 ...                 ...   \n",
       "9995                  2008                   5                  44   \n",
       "9996                  1994                   1                  28   \n",
       "9997                  2004                   0                  18   \n",
       "9998                  1999                   1                  38   \n",
       "9999                  2005                   0                  15   \n",
       "\n",
       "      open_credit_lines  total_credit_limit  total_credit_utilized  ...  \\\n",
       "0                    10               70795                  38767  ...   \n",
       "1                    14               28800                   4321  ...   \n",
       "2                    10               24193                  16000  ...   \n",
       "3                     4               25400                   4997  ...   \n",
       "4                    16               69839                  52722  ...   \n",
       "...                 ...                 ...                    ...  ...   \n",
       "9995                 13              199195                  77963  ...   \n",
       "9996                 15              382061                 101571  ...   \n",
       "9997                 11              346402                  95421  ...   \n",
       "9998                 15              294475                  27641  ...   \n",
       "9999                 11               91887                  53413  ...   \n",
       "\n",
       "      sub_grade_F2  sub_grade_F3  sub_grade_F4  sub_grade_F5  sub_grade_G1  \\\n",
       "0                0             0             0             0             0   \n",
       "1                0             0             0             0             0   \n",
       "2                0             0             0             0             0   \n",
       "3                0             0             0             0             0   \n",
       "4                0             0             0             0             0   \n",
       "...            ...           ...           ...           ...           ...   \n",
       "9995             0             0             0             0             0   \n",
       "9996             0             0             0             0             0   \n",
       "9997             0             0             0             0             0   \n",
       "9998             0             0             0             0             0   \n",
       "9999             0             0             0             0             0   \n",
       "\n",
       "      sub_grade_G4  issue_month_Jan-2018  issue_month_Mar-2018  \\\n",
       "0                0                     0                     1   \n",
       "1                0                     0                     0   \n",
       "2                0                     0                     0   \n",
       "3                0                     1                     0   \n",
       "4                0                     0                     1   \n",
       "...            ...                   ...                   ...   \n",
       "9995             0                     1                     0   \n",
       "9996             0                     0                     0   \n",
       "9997             0                     0                     0   \n",
       "9998             0                     0                     0   \n",
       "9999             0                     0                     0   \n",
       "\n",
       "      initial_listing_status_whole  disbursement_method_DirectPay  \n",
       "0                                1                              0  \n",
       "1                                1                              0  \n",
       "2                                0                              0  \n",
       "3                                1                              0  \n",
       "4                                1                              0  \n",
       "...                            ...                            ...  \n",
       "9995                             1                              0  \n",
       "9996                             1                              0  \n",
       "9997                             0                              0  \n",
       "9998                             1                              0  \n",
       "9999                             1                              0  \n",
       "\n",
       "[10000 rows x 148 columns]"
      ]
     },
     "execution_count": 93,
     "metadata": {},
     "output_type": "execute_result"
    }
   ],
   "source": [
    "dt=pd.get_dummies(new_df,columns=dummies,drop_first=True)\n",
    "dt"
   ]
  },
  {
   "cell_type": "code",
   "execution_count": 94,
   "id": "92c48341",
   "metadata": {},
   "outputs": [
    {
     "data": {
      "text/plain": [
       "emp_length                       817\n",
       "annual_income                      0\n",
       "debt_to_income                    24\n",
       "delinq_2y                          0\n",
       "earliest_credit_line               0\n",
       "                                ... \n",
       "sub_grade_G4                       0\n",
       "issue_month_Jan-2018               0\n",
       "issue_month_Mar-2018               0\n",
       "initial_listing_status_whole       0\n",
       "disbursement_method_DirectPay      0\n",
       "Length: 148, dtype: int64"
      ]
     },
     "execution_count": 94,
     "metadata": {},
     "output_type": "execute_result"
    }
   ],
   "source": [
    "dt.isnull().sum()"
   ]
  },
  {
   "cell_type": "code",
   "execution_count": 95,
   "id": "c69ad52a",
   "metadata": {},
   "outputs": [],
   "source": [
    "dt.fillna(dt.mean(), inplace=True)# filling with strategy"
   ]
  },
  {
   "cell_type": "code",
   "execution_count": 96,
   "id": "52c8fdac",
   "metadata": {},
   "outputs": [
    {
     "data": {
      "text/plain": [
       "emp_length                       0\n",
       "annual_income                    0\n",
       "debt_to_income                   0\n",
       "delinq_2y                        0\n",
       "earliest_credit_line             0\n",
       "                                ..\n",
       "sub_grade_G4                     0\n",
       "issue_month_Jan-2018             0\n",
       "issue_month_Mar-2018             0\n",
       "initial_listing_status_whole     0\n",
       "disbursement_method_DirectPay    0\n",
       "Length: 148, dtype: int64"
      ]
     },
     "execution_count": 96,
     "metadata": {},
     "output_type": "execute_result"
    }
   ],
   "source": [
    "dt.isnull().sum()"
   ]
  },
  {
   "cell_type": "code",
   "execution_count": 97,
   "id": "38ccbe7f",
   "metadata": {},
   "outputs": [
    {
     "data": {
      "text/html": [
       "<div>\n",
       "<style scoped>\n",
       "    .dataframe tbody tr th:only-of-type {\n",
       "        vertical-align: middle;\n",
       "    }\n",
       "\n",
       "    .dataframe tbody tr th {\n",
       "        vertical-align: top;\n",
       "    }\n",
       "\n",
       "    .dataframe thead th {\n",
       "        text-align: right;\n",
       "    }\n",
       "</style>\n",
       "<table border=\"1\" class=\"dataframe\">\n",
       "  <thead>\n",
       "    <tr style=\"text-align: right;\">\n",
       "      <th></th>\n",
       "      <th>emp_length</th>\n",
       "      <th>annual_income</th>\n",
       "      <th>debt_to_income</th>\n",
       "      <th>delinq_2y</th>\n",
       "      <th>earliest_credit_line</th>\n",
       "      <th>inquiries_last_12m</th>\n",
       "      <th>total_credit_lines</th>\n",
       "      <th>open_credit_lines</th>\n",
       "      <th>total_credit_limit</th>\n",
       "      <th>total_credit_utilized</th>\n",
       "      <th>...</th>\n",
       "      <th>sub_grade_F2</th>\n",
       "      <th>sub_grade_F3</th>\n",
       "      <th>sub_grade_F4</th>\n",
       "      <th>sub_grade_F5</th>\n",
       "      <th>sub_grade_G1</th>\n",
       "      <th>sub_grade_G4</th>\n",
       "      <th>issue_month_Jan-2018</th>\n",
       "      <th>issue_month_Mar-2018</th>\n",
       "      <th>initial_listing_status_whole</th>\n",
       "      <th>disbursement_method_DirectPay</th>\n",
       "    </tr>\n",
       "  </thead>\n",
       "  <tbody>\n",
       "    <tr>\n",
       "      <th>emp_length</th>\n",
       "      <td>1.000000</td>\n",
       "      <td>0.094126</td>\n",
       "      <td>0.023737</td>\n",
       "      <td>0.008032</td>\n",
       "      <td>-0.214617</td>\n",
       "      <td>0.003601</td>\n",
       "      <td>0.128156</td>\n",
       "      <td>0.064800</td>\n",
       "      <td>0.143630</td>\n",
       "      <td>0.019291</td>\n",
       "      <td>...</td>\n",
       "      <td>-0.002230</td>\n",
       "      <td>-0.002295</td>\n",
       "      <td>-0.005863</td>\n",
       "      <td>-0.013698</td>\n",
       "      <td>-0.004508</td>\n",
       "      <td>0.011468</td>\n",
       "      <td>-0.002700</td>\n",
       "      <td>-0.001656</td>\n",
       "      <td>0.020192</td>\n",
       "      <td>-0.031742</td>\n",
       "    </tr>\n",
       "    <tr>\n",
       "      <th>annual_income</th>\n",
       "      <td>0.094126</td>\n",
       "      <td>1.000000</td>\n",
       "      <td>-0.180120</td>\n",
       "      <td>0.052236</td>\n",
       "      <td>-0.156001</td>\n",
       "      <td>0.090119</td>\n",
       "      <td>0.210163</td>\n",
       "      <td>0.176788</td>\n",
       "      <td>0.516703</td>\n",
       "      <td>0.406370</td>\n",
       "      <td>...</td>\n",
       "      <td>-0.000721</td>\n",
       "      <td>0.003840</td>\n",
       "      <td>0.001789</td>\n",
       "      <td>-0.007292</td>\n",
       "      <td>-0.004088</td>\n",
       "      <td>0.000584</td>\n",
       "      <td>0.011162</td>\n",
       "      <td>-0.009703</td>\n",
       "      <td>0.050766</td>\n",
       "      <td>0.011331</td>\n",
       "    </tr>\n",
       "    <tr>\n",
       "      <th>debt_to_income</th>\n",
       "      <td>0.023737</td>\n",
       "      <td>-0.180120</td>\n",
       "      <td>1.000000</td>\n",
       "      <td>-0.027500</td>\n",
       "      <td>-0.089616</td>\n",
       "      <td>0.025360</td>\n",
       "      <td>0.198489</td>\n",
       "      <td>0.216908</td>\n",
       "      <td>0.075123</td>\n",
       "      <td>0.238072</td>\n",
       "      <td>...</td>\n",
       "      <td>0.003277</td>\n",
       "      <td>0.004752</td>\n",
       "      <td>0.026393</td>\n",
       "      <td>0.019127</td>\n",
       "      <td>0.011414</td>\n",
       "      <td>-0.001554</td>\n",
       "      <td>-0.000697</td>\n",
       "      <td>-0.009922</td>\n",
       "      <td>-0.009062</td>\n",
       "      <td>0.008627</td>\n",
       "    </tr>\n",
       "    <tr>\n",
       "      <th>delinq_2y</th>\n",
       "      <td>0.008032</td>\n",
       "      <td>0.052236</td>\n",
       "      <td>-0.027500</td>\n",
       "      <td>1.000000</td>\n",
       "      <td>-0.078109</td>\n",
       "      <td>0.003152</td>\n",
       "      <td>0.068040</td>\n",
       "      <td>0.013050</td>\n",
       "      <td>0.053373</td>\n",
       "      <td>0.001855</td>\n",
       "      <td>...</td>\n",
       "      <td>-0.009483</td>\n",
       "      <td>0.019786</td>\n",
       "      <td>0.006020</td>\n",
       "      <td>-0.006321</td>\n",
       "      <td>-0.010485</td>\n",
       "      <td>-0.003160</td>\n",
       "      <td>-0.006586</td>\n",
       "      <td>0.009355</td>\n",
       "      <td>-0.032595</td>\n",
       "      <td>-0.025903</td>\n",
       "    </tr>\n",
       "    <tr>\n",
       "      <th>earliest_credit_line</th>\n",
       "      <td>-0.214617</td>\n",
       "      <td>-0.156001</td>\n",
       "      <td>-0.089616</td>\n",
       "      <td>-0.078109</td>\n",
       "      <td>1.000000</td>\n",
       "      <td>0.042745</td>\n",
       "      <td>-0.294621</td>\n",
       "      <td>-0.174322</td>\n",
       "      <td>-0.231230</td>\n",
       "      <td>-0.140936</td>\n",
       "      <td>...</td>\n",
       "      <td>0.009579</td>\n",
       "      <td>0.000595</td>\n",
       "      <td>-0.012883</td>\n",
       "      <td>-0.008443</td>\n",
       "      <td>0.006506</td>\n",
       "      <td>-0.000372</td>\n",
       "      <td>-0.022365</td>\n",
       "      <td>0.024752</td>\n",
       "      <td>-0.024131</td>\n",
       "      <td>0.013054</td>\n",
       "    </tr>\n",
       "    <tr>\n",
       "      <th>...</th>\n",
       "      <td>...</td>\n",
       "      <td>...</td>\n",
       "      <td>...</td>\n",
       "      <td>...</td>\n",
       "      <td>...</td>\n",
       "      <td>...</td>\n",
       "      <td>...</td>\n",
       "      <td>...</td>\n",
       "      <td>...</td>\n",
       "      <td>...</td>\n",
       "      <td>...</td>\n",
       "      <td>...</td>\n",
       "      <td>...</td>\n",
       "      <td>...</td>\n",
       "      <td>...</td>\n",
       "      <td>...</td>\n",
       "      <td>...</td>\n",
       "      <td>...</td>\n",
       "      <td>...</td>\n",
       "      <td>...</td>\n",
       "      <td>...</td>\n",
       "    </tr>\n",
       "    <tr>\n",
       "      <th>sub_grade_G4</th>\n",
       "      <td>0.011468</td>\n",
       "      <td>0.000584</td>\n",
       "      <td>-0.001554</td>\n",
       "      <td>-0.003160</td>\n",
       "      <td>-0.000372</td>\n",
       "      <td>0.012781</td>\n",
       "      <td>-0.002255</td>\n",
       "      <td>-0.000689</td>\n",
       "      <td>-0.001461</td>\n",
       "      <td>-0.004996</td>\n",
       "      <td>...</td>\n",
       "      <td>-0.000300</td>\n",
       "      <td>-0.000300</td>\n",
       "      <td>-0.000224</td>\n",
       "      <td>-0.000200</td>\n",
       "      <td>-0.000332</td>\n",
       "      <td>1.000000</td>\n",
       "      <td>-0.007170</td>\n",
       "      <td>0.013285</td>\n",
       "      <td>0.004676</td>\n",
       "      <td>-0.002777</td>\n",
       "    </tr>\n",
       "    <tr>\n",
       "      <th>issue_month_Jan-2018</th>\n",
       "      <td>-0.002700</td>\n",
       "      <td>0.011162</td>\n",
       "      <td>-0.000697</td>\n",
       "      <td>-0.006586</td>\n",
       "      <td>-0.022365</td>\n",
       "      <td>0.003186</td>\n",
       "      <td>0.007832</td>\n",
       "      <td>0.002449</td>\n",
       "      <td>0.004949</td>\n",
       "      <td>-0.006659</td>\n",
       "      <td>...</td>\n",
       "      <td>0.006652</td>\n",
       "      <td>0.006652</td>\n",
       "      <td>0.012304</td>\n",
       "      <td>-0.003781</td>\n",
       "      <td>0.008062</td>\n",
       "      <td>-0.007170</td>\n",
       "      <td>1.000000</td>\n",
       "      <td>-0.539691</td>\n",
       "      <td>-0.053353</td>\n",
       "      <td>-0.054126</td>\n",
       "    </tr>\n",
       "    <tr>\n",
       "      <th>issue_month_Mar-2018</th>\n",
       "      <td>-0.001656</td>\n",
       "      <td>-0.009703</td>\n",
       "      <td>-0.009922</td>\n",
       "      <td>0.009355</td>\n",
       "      <td>0.024752</td>\n",
       "      <td>-0.003656</td>\n",
       "      <td>-0.007865</td>\n",
       "      <td>-0.003182</td>\n",
       "      <td>0.006955</td>\n",
       "      <td>-0.004486</td>\n",
       "      <td>...</td>\n",
       "      <td>0.005169</td>\n",
       "      <td>-0.001772</td>\n",
       "      <td>-0.007527</td>\n",
       "      <td>0.005758</td>\n",
       "      <td>-0.018702</td>\n",
       "      <td>0.013285</td>\n",
       "      <td>-0.539691</td>\n",
       "      <td>1.000000</td>\n",
       "      <td>0.036825</td>\n",
       "      <td>0.035536</td>\n",
       "    </tr>\n",
       "    <tr>\n",
       "      <th>initial_listing_status_whole</th>\n",
       "      <td>0.020192</td>\n",
       "      <td>0.050766</td>\n",
       "      <td>-0.009062</td>\n",
       "      <td>-0.032595</td>\n",
       "      <td>-0.024131</td>\n",
       "      <td>-0.033946</td>\n",
       "      <td>0.035399</td>\n",
       "      <td>0.017433</td>\n",
       "      <td>0.056136</td>\n",
       "      <td>0.027931</td>\n",
       "      <td>...</td>\n",
       "      <td>0.014033</td>\n",
       "      <td>0.014033</td>\n",
       "      <td>0.010458</td>\n",
       "      <td>0.009353</td>\n",
       "      <td>0.015516</td>\n",
       "      <td>0.004676</td>\n",
       "      <td>-0.053353</td>\n",
       "      <td>0.036825</td>\n",
       "      <td>1.000000</td>\n",
       "      <td>0.023706</td>\n",
       "    </tr>\n",
       "    <tr>\n",
       "      <th>disbursement_method_DirectPay</th>\n",
       "      <td>-0.031742</td>\n",
       "      <td>0.011331</td>\n",
       "      <td>0.008627</td>\n",
       "      <td>-0.025903</td>\n",
       "      <td>0.013054</td>\n",
       "      <td>-0.018753</td>\n",
       "      <td>0.019659</td>\n",
       "      <td>0.044447</td>\n",
       "      <td>0.022267</td>\n",
       "      <td>0.035301</td>\n",
       "      <td>...</td>\n",
       "      <td>-0.008335</td>\n",
       "      <td>-0.008335</td>\n",
       "      <td>-0.006211</td>\n",
       "      <td>-0.005555</td>\n",
       "      <td>-0.009216</td>\n",
       "      <td>-0.002777</td>\n",
       "      <td>-0.054126</td>\n",
       "      <td>0.035536</td>\n",
       "      <td>0.023706</td>\n",
       "      <td>1.000000</td>\n",
       "    </tr>\n",
       "  </tbody>\n",
       "</table>\n",
       "<p>148 rows × 148 columns</p>\n",
       "</div>"
      ],
      "text/plain": [
       "                               emp_length  annual_income  debt_to_income  \\\n",
       "emp_length                       1.000000       0.094126        0.023737   \n",
       "annual_income                    0.094126       1.000000       -0.180120   \n",
       "debt_to_income                   0.023737      -0.180120        1.000000   \n",
       "delinq_2y                        0.008032       0.052236       -0.027500   \n",
       "earliest_credit_line            -0.214617      -0.156001       -0.089616   \n",
       "...                                   ...            ...             ...   \n",
       "sub_grade_G4                     0.011468       0.000584       -0.001554   \n",
       "issue_month_Jan-2018            -0.002700       0.011162       -0.000697   \n",
       "issue_month_Mar-2018            -0.001656      -0.009703       -0.009922   \n",
       "initial_listing_status_whole     0.020192       0.050766       -0.009062   \n",
       "disbursement_method_DirectPay   -0.031742       0.011331        0.008627   \n",
       "\n",
       "                               delinq_2y  earliest_credit_line  \\\n",
       "emp_length                      0.008032             -0.214617   \n",
       "annual_income                   0.052236             -0.156001   \n",
       "debt_to_income                 -0.027500             -0.089616   \n",
       "delinq_2y                       1.000000             -0.078109   \n",
       "earliest_credit_line           -0.078109              1.000000   \n",
       "...                                  ...                   ...   \n",
       "sub_grade_G4                   -0.003160             -0.000372   \n",
       "issue_month_Jan-2018           -0.006586             -0.022365   \n",
       "issue_month_Mar-2018            0.009355              0.024752   \n",
       "initial_listing_status_whole   -0.032595             -0.024131   \n",
       "disbursement_method_DirectPay  -0.025903              0.013054   \n",
       "\n",
       "                               inquiries_last_12m  total_credit_lines  \\\n",
       "emp_length                               0.003601            0.128156   \n",
       "annual_income                            0.090119            0.210163   \n",
       "debt_to_income                           0.025360            0.198489   \n",
       "delinq_2y                                0.003152            0.068040   \n",
       "earliest_credit_line                     0.042745           -0.294621   \n",
       "...                                           ...                 ...   \n",
       "sub_grade_G4                             0.012781           -0.002255   \n",
       "issue_month_Jan-2018                     0.003186            0.007832   \n",
       "issue_month_Mar-2018                    -0.003656           -0.007865   \n",
       "initial_listing_status_whole            -0.033946            0.035399   \n",
       "disbursement_method_DirectPay           -0.018753            0.019659   \n",
       "\n",
       "                               open_credit_lines  total_credit_limit  \\\n",
       "emp_length                              0.064800            0.143630   \n",
       "annual_income                           0.176788            0.516703   \n",
       "debt_to_income                          0.216908            0.075123   \n",
       "delinq_2y                               0.013050            0.053373   \n",
       "earliest_credit_line                   -0.174322           -0.231230   \n",
       "...                                          ...                 ...   \n",
       "sub_grade_G4                           -0.000689           -0.001461   \n",
       "issue_month_Jan-2018                    0.002449            0.004949   \n",
       "issue_month_Mar-2018                   -0.003182            0.006955   \n",
       "initial_listing_status_whole            0.017433            0.056136   \n",
       "disbursement_method_DirectPay           0.044447            0.022267   \n",
       "\n",
       "                               total_credit_utilized  ...  sub_grade_F2  \\\n",
       "emp_length                                  0.019291  ...     -0.002230   \n",
       "annual_income                               0.406370  ...     -0.000721   \n",
       "debt_to_income                              0.238072  ...      0.003277   \n",
       "delinq_2y                                   0.001855  ...     -0.009483   \n",
       "earliest_credit_line                       -0.140936  ...      0.009579   \n",
       "...                                              ...  ...           ...   \n",
       "sub_grade_G4                               -0.004996  ...     -0.000300   \n",
       "issue_month_Jan-2018                       -0.006659  ...      0.006652   \n",
       "issue_month_Mar-2018                       -0.004486  ...      0.005169   \n",
       "initial_listing_status_whole                0.027931  ...      0.014033   \n",
       "disbursement_method_DirectPay               0.035301  ...     -0.008335   \n",
       "\n",
       "                               sub_grade_F3  sub_grade_F4  sub_grade_F5  \\\n",
       "emp_length                        -0.002295     -0.005863     -0.013698   \n",
       "annual_income                      0.003840      0.001789     -0.007292   \n",
       "debt_to_income                     0.004752      0.026393      0.019127   \n",
       "delinq_2y                          0.019786      0.006020     -0.006321   \n",
       "earliest_credit_line               0.000595     -0.012883     -0.008443   \n",
       "...                                     ...           ...           ...   \n",
       "sub_grade_G4                      -0.000300     -0.000224     -0.000200   \n",
       "issue_month_Jan-2018               0.006652      0.012304     -0.003781   \n",
       "issue_month_Mar-2018              -0.001772     -0.007527      0.005758   \n",
       "initial_listing_status_whole       0.014033      0.010458      0.009353   \n",
       "disbursement_method_DirectPay     -0.008335     -0.006211     -0.005555   \n",
       "\n",
       "                               sub_grade_G1  sub_grade_G4  \\\n",
       "emp_length                        -0.004508      0.011468   \n",
       "annual_income                     -0.004088      0.000584   \n",
       "debt_to_income                     0.011414     -0.001554   \n",
       "delinq_2y                         -0.010485     -0.003160   \n",
       "earliest_credit_line               0.006506     -0.000372   \n",
       "...                                     ...           ...   \n",
       "sub_grade_G4                      -0.000332      1.000000   \n",
       "issue_month_Jan-2018               0.008062     -0.007170   \n",
       "issue_month_Mar-2018              -0.018702      0.013285   \n",
       "initial_listing_status_whole       0.015516      0.004676   \n",
       "disbursement_method_DirectPay     -0.009216     -0.002777   \n",
       "\n",
       "                               issue_month_Jan-2018  issue_month_Mar-2018  \\\n",
       "emp_length                                -0.002700             -0.001656   \n",
       "annual_income                              0.011162             -0.009703   \n",
       "debt_to_income                            -0.000697             -0.009922   \n",
       "delinq_2y                                 -0.006586              0.009355   \n",
       "earliest_credit_line                      -0.022365              0.024752   \n",
       "...                                             ...                   ...   \n",
       "sub_grade_G4                              -0.007170              0.013285   \n",
       "issue_month_Jan-2018                       1.000000             -0.539691   \n",
       "issue_month_Mar-2018                      -0.539691              1.000000   \n",
       "initial_listing_status_whole              -0.053353              0.036825   \n",
       "disbursement_method_DirectPay             -0.054126              0.035536   \n",
       "\n",
       "                               initial_listing_status_whole  \\\n",
       "emp_length                                         0.020192   \n",
       "annual_income                                      0.050766   \n",
       "debt_to_income                                    -0.009062   \n",
       "delinq_2y                                         -0.032595   \n",
       "earliest_credit_line                              -0.024131   \n",
       "...                                                     ...   \n",
       "sub_grade_G4                                       0.004676   \n",
       "issue_month_Jan-2018                              -0.053353   \n",
       "issue_month_Mar-2018                               0.036825   \n",
       "initial_listing_status_whole                       1.000000   \n",
       "disbursement_method_DirectPay                      0.023706   \n",
       "\n",
       "                               disbursement_method_DirectPay  \n",
       "emp_length                                         -0.031742  \n",
       "annual_income                                       0.011331  \n",
       "debt_to_income                                      0.008627  \n",
       "delinq_2y                                          -0.025903  \n",
       "earliest_credit_line                                0.013054  \n",
       "...                                                      ...  \n",
       "sub_grade_G4                                       -0.002777  \n",
       "issue_month_Jan-2018                               -0.054126  \n",
       "issue_month_Mar-2018                                0.035536  \n",
       "initial_listing_status_whole                        0.023706  \n",
       "disbursement_method_DirectPay                       1.000000  \n",
       "\n",
       "[148 rows x 148 columns]"
      ]
     },
     "execution_count": 97,
     "metadata": {},
     "output_type": "execute_result"
    }
   ],
   "source": [
    "dt.corr()"
   ]
  },
  {
   "cell_type": "markdown",
   "id": "3425f8be",
   "metadata": {},
   "source": [
    "## Predicting interest rate using linear regression and Decision tree Algorithms"
   ]
  },
  {
   "cell_type": "markdown",
   "id": "90aac998",
   "metadata": {},
   "source": [
    "## Logistic Regression"
   ]
  },
  {
   "cell_type": "markdown",
   "id": "dd99d436",
   "metadata": {},
   "source": [
    "####  creating model"
   ]
  },
  {
   "cell_type": "code",
   "execution_count": 98,
   "id": "ddef7969",
   "metadata": {},
   "outputs": [],
   "source": [
    "new_df.fillna(dt.mean(), inplace=True)"
   ]
  },
  {
   "cell_type": "code",
   "execution_count": 99,
   "id": "a77c2373",
   "metadata": {},
   "outputs": [],
   "source": [
    "data=new_df.drop(dummies,axis=1)\n",
    "\n"
   ]
  },
  {
   "cell_type": "markdown",
   "id": "1c1379b6",
   "metadata": {},
   "source": [
    "## Divide the dataset into Dependent & Independent variable"
   ]
  },
  {
   "cell_type": "markdown",
   "id": "f12e9b8b",
   "metadata": {},
   "source": [
    "The next step after importing the dataset is to identify the independent variable (X) and the dependent variable (Y) (Y).\n",
    "In general, datasets can be labeled or unlabeled; in this case, I'm using a labeled dataset for a machine learning classification task and a short dataset for better understanding."
   ]
  },
  {
   "cell_type": "code",
   "execution_count": 100,
   "id": "262f4318",
   "metadata": {},
   "outputs": [],
   "source": [
    "X = data.drop(\"interest_rate\",axis=1).values\n",
    "y = data['interest_rate'].values"
   ]
  },
  {
   "cell_type": "code",
   "execution_count": 101,
   "id": "46b7f47b",
   "metadata": {},
   "outputs": [
    {
     "name": "stdout",
     "output_type": "stream",
     "text": [
      "(10000, 36)\n",
      "(10000,)\n"
     ]
    }
   ],
   "source": [
    "print(X.shape)\n",
    "print(y.shape)"
   ]
  },
  {
   "cell_type": "markdown",
   "id": "3639de62",
   "metadata": {},
   "source": [
    "### Split the dataset into training and test set"
   ]
  },
  {
   "cell_type": "markdown",
   "id": "89a47486",
   "metadata": {},
   "source": [
    "For applying models in machine learning, we commonly separate the data into Training and Testing data.\n",
    "In general, we split the dataset into 70:30 or 80:20 (depending on the demand), which means that 70% of the data is used to train and 30% is used to test.\n",
    "We will import train test split from the scikit-learn model selection package. Now we'll establish four training and test sets: X train (training portion of the features), X test (test part of the features), Y train (training part of the dependent variables connected with the X train sets, and hence the same indices), and Y test (test part of the dependent variables) (test part of the dependent variables associated with the X test sets, and therefore also the same indices). We'll give them the train test split command, which accepts the following parameters: arrays (X and Y), test size (An optimal allocation for the test set is 20% of the dataset; it is commonly assigned as 0.2; 0.25 would mean 25%.)t"
   ]
  },
  {
   "cell_type": "code",
   "execution_count": 102,
   "id": "5d44da4c",
   "metadata": {},
   "outputs": [],
   "source": [
    "X_train, X_test, y_train, y_test = train_test_split(X, y, test_size=0.20, random_state=0)"
   ]
  },
  {
   "cell_type": "markdown",
   "id": "c5a08948",
   "metadata": {},
   "source": [
    "### Normalizing data"
   ]
  },
  {
   "cell_type": "markdown",
   "id": "ec75658b",
   "metadata": {},
   "source": [
    "Normalization scales the feature between 0.0 and 1.0 while maintaining its proportional range.Especially when the feature magnitude needs to be transformed in the [0,1] range. One of the greatest options is to use the Min-Max feature scaling technique.In this procedure, the data is scaled to a specified range – commonly 0 to 1.\n",
    "To convert it to a scale, we'll utilize the standardization formula. To finish the job, we'll import the StandardScaler class from the sckit preprocessing library and create a StandardScaler object as usual."
   ]
  },
  {
   "cell_type": "code",
   "execution_count": 103,
   "id": "3d3785cf",
   "metadata": {},
   "outputs": [],
   "source": [
    "from sklearn.preprocessing import MinMaxScaler"
   ]
  },
  {
   "cell_type": "code",
   "execution_count": 104,
   "id": "3562adc5",
   "metadata": {},
   "outputs": [],
   "source": [
    "scaler = MinMaxScaler()"
   ]
  },
  {
   "cell_type": "code",
   "execution_count": 105,
   "id": "8ad355e2",
   "metadata": {},
   "outputs": [],
   "source": [
    "X_train = scaler.fit_transform(X_train)"
   ]
  },
  {
   "cell_type": "code",
   "execution_count": 106,
   "id": "7a26ae0b",
   "metadata": {},
   "outputs": [],
   "source": [
    "X_test = scaler.transform(X_test)"
   ]
  },
  {
   "cell_type": "markdown",
   "id": "ec70aaec",
   "metadata": {},
   "source": [
    "#### Implementing Linear Regression"
   ]
  },
  {
   "cell_type": "code",
   "execution_count": 107,
   "id": "4035a93f",
   "metadata": {},
   "outputs": [
    {
     "data": {
      "text/plain": [
       "LinearRegression()"
      ]
     },
     "execution_count": 107,
     "metadata": {},
     "output_type": "execute_result"
    }
   ],
   "source": [
    "from sklearn.linear_model import LinearRegression\n",
    "model=LinearRegression()\n",
    "model.fit(X_train,y_train)"
   ]
  },
  {
   "cell_type": "code",
   "execution_count": 108,
   "id": "b053a7c9",
   "metadata": {},
   "outputs": [
    {
     "data": {
      "text/plain": [
       "array([15.16624485, 10.34355048,  9.66007817, ...,  9.83882432,\n",
       "        8.17949562, 11.86167366])"
      ]
     },
     "execution_count": 108,
     "metadata": {},
     "output_type": "execute_result"
    }
   ],
   "source": [
    "y_pred=model.predict(X_test)\n",
    "y_pred"
   ]
  },
  {
   "cell_type": "code",
   "execution_count": 109,
   "id": "05a4bc62",
   "metadata": {},
   "outputs": [
    {
     "name": "stdout",
     "output_type": "stream",
     "text": [
      "[-6.43886743e-02 -3.16846458e+00  6.52609237e+00  2.96736860e+00\n",
      "  3.27461475e-01  3.18567845e+00 -8.49513245e-01  4.66315775e+00\n",
      " -2.09819486e+00  4.08361692e+00  1.38829765e+00  2.09574214e+13\n",
      "  4.50650259e+11 -8.91270750e-01 -2.72689857e+00  3.79501448e+00\n",
      " -3.15310996e+00 -1.64142977e+10 -4.50650259e+11  2.63472619e-01\n",
      " -6.65330013e+00 -1.79228716e+00 -4.18308337e+00  5.89896971e+00\n",
      " -1.91630620e+00 -2.30198730e+00 -2.09574214e+13 -8.98175201e+12\n",
      " -4.03005316e+01  8.27381969e+00  4.71499893e+01 -3.30858732e+00\n",
      " -5.01979426e+03  4.83440281e+03  5.31059620e+02  8.11912811e+00]\n"
     ]
    }
   ],
   "source": [
    "print(model.coef_)"
   ]
  },
  {
   "cell_type": "code",
   "execution_count": 110,
   "id": "4691c06c",
   "metadata": {},
   "outputs": [
    {
     "name": "stdout",
     "output_type": "stream",
     "text": [
      "12.007387915024687\n"
     ]
    }
   ],
   "source": [
    "print(model.intercept_)"
   ]
  },
  {
   "cell_type": "markdown",
   "id": "969e8954",
   "metadata": {},
   "source": [
    "#### Evaluating the Model"
   ]
  },
  {
   "cell_type": "markdown",
   "id": "73d1736b",
   "metadata": {},
   "source": [
    "The R-squared number is used to assess the overall fit of a linear model.\n",
    "The proportion of variation is explained by R-squared. The proportion of variance described by the model in the observed data, or the reduction in error over the null model is because the null model only predicts the mean of the observed response, it lacks an intercept and a slope. R-squared is a number that ranges from 0 to 1.\n",
    "Higher values are desirable since they indicate that the model can explain more variance."
   ]
  },
  {
   "cell_type": "code",
   "execution_count": 111,
   "id": "e83c793d",
   "metadata": {},
   "outputs": [
    {
     "data": {
      "text/plain": [
       "0.6692459081483708"
      ]
     },
     "execution_count": 111,
     "metadata": {},
     "output_type": "execute_result"
    }
   ],
   "source": [
    "from sklearn.metrics import r2_score\n",
    "r2_score(y_test,y_pred)"
   ]
  },
  {
   "cell_type": "code",
   "execution_count": null,
   "id": "8f054230",
   "metadata": {},
   "outputs": [],
   "source": []
  },
  {
   "cell_type": "markdown",
   "id": "79f224b3",
   "metadata": {},
   "source": [
    "## Random Forest Classifier"
   ]
  },
  {
   "cell_type": "code",
   "execution_count": 112,
   "id": "c1a2961a",
   "metadata": {},
   "outputs": [
    {
     "data": {
      "text/plain": [
       "RandomForestRegressor(n_estimators=10, random_state=42)"
      ]
     },
     "execution_count": 112,
     "metadata": {},
     "output_type": "execute_result"
    }
   ],
   "source": [
    "from sklearn.ensemble import RandomForestRegressor\n",
    "regressor = RandomForestRegressor(n_estimators = 10, random_state = 42)\n",
    "regressor.fit(X_train, y_train)"
   ]
  },
  {
   "cell_type": "code",
   "execution_count": 113,
   "id": "87887456",
   "metadata": {},
   "outputs": [],
   "source": [
    "y_pred = regressor.predict(X_test)"
   ]
  },
  {
   "cell_type": "code",
   "execution_count": 114,
   "id": "2c0cf86e",
   "metadata": {},
   "outputs": [
    {
     "data": {
      "text/html": [
       "<div>\n",
       "<style scoped>\n",
       "    .dataframe tbody tr th:only-of-type {\n",
       "        vertical-align: middle;\n",
       "    }\n",
       "\n",
       "    .dataframe tbody tr th {\n",
       "        vertical-align: top;\n",
       "    }\n",
       "\n",
       "    .dataframe thead th {\n",
       "        text-align: right;\n",
       "    }\n",
       "</style>\n",
       "<table border=\"1\" class=\"dataframe\">\n",
       "  <thead>\n",
       "    <tr style=\"text-align: right;\">\n",
       "      <th></th>\n",
       "      <th>Actual</th>\n",
       "      <th>Predicted</th>\n",
       "    </tr>\n",
       "  </thead>\n",
       "  <tbody>\n",
       "    <tr>\n",
       "      <th>0</th>\n",
       "      <td>21.45</td>\n",
       "      <td>21.707</td>\n",
       "    </tr>\n",
       "    <tr>\n",
       "      <th>1</th>\n",
       "      <td>10.90</td>\n",
       "      <td>10.527</td>\n",
       "    </tr>\n",
       "    <tr>\n",
       "      <th>2</th>\n",
       "      <td>7.34</td>\n",
       "      <td>7.320</td>\n",
       "    </tr>\n",
       "    <tr>\n",
       "      <th>3</th>\n",
       "      <td>19.03</td>\n",
       "      <td>20.337</td>\n",
       "    </tr>\n",
       "    <tr>\n",
       "      <th>4</th>\n",
       "      <td>16.02</td>\n",
       "      <td>16.040</td>\n",
       "    </tr>\n",
       "    <tr>\n",
       "      <th>...</th>\n",
       "      <td>...</td>\n",
       "      <td>...</td>\n",
       "    </tr>\n",
       "    <tr>\n",
       "      <th>1995</th>\n",
       "      <td>6.08</td>\n",
       "      <td>5.924</td>\n",
       "    </tr>\n",
       "    <tr>\n",
       "      <th>1996</th>\n",
       "      <td>9.44</td>\n",
       "      <td>9.934</td>\n",
       "    </tr>\n",
       "    <tr>\n",
       "      <th>1997</th>\n",
       "      <td>9.43</td>\n",
       "      <td>8.673</td>\n",
       "    </tr>\n",
       "    <tr>\n",
       "      <th>1998</th>\n",
       "      <td>6.72</td>\n",
       "      <td>6.650</td>\n",
       "    </tr>\n",
       "    <tr>\n",
       "      <th>1999</th>\n",
       "      <td>12.62</td>\n",
       "      <td>12.556</td>\n",
       "    </tr>\n",
       "  </tbody>\n",
       "</table>\n",
       "<p>2000 rows × 2 columns</p>\n",
       "</div>"
      ],
      "text/plain": [
       "      Actual  Predicted\n",
       "0      21.45     21.707\n",
       "1      10.90     10.527\n",
       "2       7.34      7.320\n",
       "3      19.03     20.337\n",
       "4      16.02     16.040\n",
       "...      ...        ...\n",
       "1995    6.08      5.924\n",
       "1996    9.44      9.934\n",
       "1997    9.43      8.673\n",
       "1998    6.72      6.650\n",
       "1999   12.62     12.556\n",
       "\n",
       "[2000 rows x 2 columns]"
      ]
     },
     "execution_count": 114,
     "metadata": {},
     "output_type": "execute_result"
    }
   ],
   "source": [
    "df=pd.DataFrame({'Actual':y_test, 'Predicted':y_pred})\n",
    "df"
   ]
  },
  {
   "cell_type": "markdown",
   "id": "65fe656d",
   "metadata": {},
   "source": [
    "#### Evaluating the model"
   ]
  },
  {
   "cell_type": "code",
   "execution_count": 115,
   "id": "142e6eb1",
   "metadata": {},
   "outputs": [
    {
     "name": "stdout",
     "output_type": "stream",
     "text": [
      "Mean Absolute Error: 0.7598520000000001\n",
      "Mean Squared Error: 2.28471979\n",
      "Root Mean Squared Error: 1.5115289577113633\n"
     ]
    }
   ],
   "source": [
    "from sklearn import metrics\n",
    "print('Mean Absolute Error:', metrics.mean_absolute_error(y_test, y_pred))\n",
    "print('Mean Squared Error:', metrics.mean_squared_error(y_test, y_pred))\n",
    "print('Root Mean Squared Error:', np.sqrt(metrics.mean_squared_error(y_test, y_pred)))"
   ]
  },
  {
   "cell_type": "code",
   "execution_count": 116,
   "id": "e469961f",
   "metadata": {},
   "outputs": [
    {
     "name": "stdout",
     "output_type": "stream",
     "text": [
      "Mean Absolute Error: 0.76 degrees.\n",
      "Accuracy: 93.59 %.\n"
     ]
    }
   ],
   "source": [
    "# Calculate the absolute errors\n",
    "errors = abs(y_pred - y_test)\n",
    "# Print out the mean absolute error (mae)\n",
    "print('Mean Absolute Error:', round(np.mean(errors), 2), 'degrees.')\n",
    "\n",
    "# Calculate mean absolute percentage error (MAPE)\n",
    "mape = 100 * (errors / y_test)\n",
    "# Calculate and display accuracy\n",
    "accuracy = 100 - np.mean(mape)\n",
    "print('Accuracy:', round(accuracy, 2), '%.')\n"
   ]
  },
  {
   "cell_type": "markdown",
   "id": "3caa6372",
   "metadata": {},
   "source": [
    "## Visualizing the results"
   ]
  },
  {
   "cell_type": "markdown",
   "id": "e56ec235",
   "metadata": {},
   "source": [
    "### Linear Regression"
   ]
  },
  {
   "cell_type": "code",
   "execution_count": 117,
   "id": "b973b594",
   "metadata": {},
   "outputs": [
    {
     "data": {
      "text/plain": [
       "[<matplotlib.lines.Line2D at 0x7f9fb88654c0>,\n",
       " <matplotlib.lines.Line2D at 0x7f9fb8865a90>,\n",
       " <matplotlib.lines.Line2D at 0x7f9fb8865400>,\n",
       " <matplotlib.lines.Line2D at 0x7f9fb8865f70>,\n",
       " <matplotlib.lines.Line2D at 0x7f9fb8865d30>]"
      ]
     },
     "execution_count": 117,
     "metadata": {},
     "output_type": "execute_result"
    },
    {
     "data": {
      "image/png": "[encoded data removed]",
      "text/plain": [
       "<Figure size 432x288 with 1 Axes>"
      ]
     },
     "metadata": {
      "needs_background": "light"
     },
     "output_type": "display_data"
    }
   ],
   "source": [
    "from sklearn.model_selection import validation_curve\n",
    "from sklearn.linear_model import Ridge\n",
    "\n",
    "y_pred,y_test = validation_curve(Ridge(), X, y, param_name=\"alpha\", param_range=np.logspace(-7, 3, 3),cv=5)\n",
    "plt.plot(y_pred,y_pred)"
   ]
  },
  {
   "cell_type": "markdown",
   "id": "0e8f590a",
   "metadata": {},
   "source": [
    "### Random Forest Classifier"
   ]
  },
  {
   "cell_type": "code",
   "execution_count": 118,
   "id": "2d0a72e1",
   "metadata": {},
   "outputs": [
    {
     "data": {
      "image/png": "[encoded data removed]",
      "text/plain": [
       "<Figure size 360x504 with 1 Axes>"
      ]
     },
     "metadata": {
      "needs_background": "light"
     },
     "output_type": "display_data"
    }
   ],
   "source": [
    "import seaborn as sns\n",
    "plt.figure(figsize=(5, 7))\n",
    "\n",
    "\n",
    "ax = sns.distplot(y_test, hist=False, color=\"r\", label=\"Actual Value\")\n",
    "sns.distplot(y_pred, hist=False, color=\"b\", label=\"Fitted Values\" , ax=ax)\n",
    "plt.title('Actual vs Fitted Values for intrest_rate')\n",
    "plt.show()\n",
    "plt.close()\n"
   ]
  },
  {
   "cell_type": "markdown",
   "id": "11aa35bf",
   "metadata": {},
   "source": [
    "### Conclusion"
   ]
  },
  {
   "cell_type": "markdown",
   "id": "c65ac5ff",
   "metadata": {},
   "source": [
    "By comparing the two algorithms in predicting interest rate, the use of Randomforest regressor is recommended. Since, it is good for classification and regression tasks on datasets with many entries and features presumably with missing values when we need to obtain a highly-accurate result whilst avoiding overfitting as we have seen where Randomforest achieves 93% accuracy while  linear regression achieves 66% in the above case. Also, random forest provides the relative feature importance, which allows to select the most relevant features and it is also much less interpretable than decision tree, but more interpretable than black-box models of neural networks."
   ]
  },
  {
   "cell_type": "markdown",
   "id": "35b2b824",
   "metadata": {},
   "source": [
    "If I had more time, I would have looked into to applying some ensembling techniques and also other Machine Learning models as well as potentially looking at a much larger sample of the Lending Club data to see if we can find some predictive lift in the investment-grade pool of loans."
   ]
  },
  {
   "cell_type": "code",
   "execution_count": null,
   "id": "a74ca5c4",
   "metadata": {},
   "outputs": [],
   "source": []
  }
 ],
 "metadata": {
  "kernelspec": {
   "display_name": "Python 3 (ipykernel)",
   "language": "python",
   "name": "python3"
  },
  "language_info": {
   "codemirror_mode": {
    "name": "ipython",
    "version": 3
   },
   "file_extension": ".py",
   "mimetype": "text/x-python",
   "name": "python",
   "nbconvert_exporter": "python",
   "pygments_lexer": "ipython3",
   "version": "3.9.7"
  }
 },
 "nbformat": 4,
 "nbformat_minor": 5
}
